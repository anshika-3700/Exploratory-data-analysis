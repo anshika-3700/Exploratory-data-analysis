{
 "cells": [
  {
   "cell_type": "code",
   "execution_count": 2,
   "metadata": {},
   "outputs": [],
   "source": [
    "import pandas as pd\n",
    "import numpy as np"
   ]
  },
  {
   "cell_type": "markdown",
   "metadata": {},
   "source": [
    "1. Import claims_data.csv and cust_data.csv which is provided to you and\n",
    "combine the two datasets appropriately to create a 360-degree view of\n",
    "the data. Use the same for the subsequent questions."
   ]
  },
  {
   "cell_type": "code",
   "execution_count": 3,
   "metadata": {},
   "outputs": [
    {
     "data": {
      "text/html": [
       "<div>\n",
       "<style scoped>\n",
       "    .dataframe tbody tr th:only-of-type {\n",
       "        vertical-align: middle;\n",
       "    }\n",
       "\n",
       "    .dataframe tbody tr th {\n",
       "        vertical-align: top;\n",
       "    }\n",
       "\n",
       "    .dataframe thead th {\n",
       "        text-align: right;\n",
       "    }\n",
       "</style>\n",
       "<table border=\"1\" class=\"dataframe\">\n",
       "  <thead>\n",
       "    <tr style=\"text-align: right;\">\n",
       "      <th></th>\n",
       "      <th>claim_id</th>\n",
       "      <th>customer_id</th>\n",
       "      <th>incident_cause</th>\n",
       "      <th>claim_date</th>\n",
       "      <th>claim_area</th>\n",
       "      <th>police_report</th>\n",
       "      <th>claim_type</th>\n",
       "      <th>claim_amount</th>\n",
       "      <th>total_policy_claims</th>\n",
       "      <th>fraudulent</th>\n",
       "    </tr>\n",
       "  </thead>\n",
       "  <tbody>\n",
       "    <tr>\n",
       "      <th>0</th>\n",
       "      <td>54004764</td>\n",
       "      <td>21868593</td>\n",
       "      <td>Driver error</td>\n",
       "      <td>11/27/2017</td>\n",
       "      <td>Auto</td>\n",
       "      <td>No</td>\n",
       "      <td>Material only</td>\n",
       "      <td>$2980</td>\n",
       "      <td>1.0</td>\n",
       "      <td>No</td>\n",
       "    </tr>\n",
       "    <tr>\n",
       "      <th>1</th>\n",
       "      <td>33985796</td>\n",
       "      <td>75740424</td>\n",
       "      <td>Crime</td>\n",
       "      <td>10/03/2018</td>\n",
       "      <td>Home</td>\n",
       "      <td>Unknown</td>\n",
       "      <td>Material only</td>\n",
       "      <td>$2980</td>\n",
       "      <td>3.0</td>\n",
       "      <td>No</td>\n",
       "    </tr>\n",
       "    <tr>\n",
       "      <th>2</th>\n",
       "      <td>53522022</td>\n",
       "      <td>30308357</td>\n",
       "      <td>Other driver error</td>\n",
       "      <td>02/02/2018</td>\n",
       "      <td>Auto</td>\n",
       "      <td>No</td>\n",
       "      <td>Material only</td>\n",
       "      <td>$3369.5</td>\n",
       "      <td>1.0</td>\n",
       "      <td>Yes</td>\n",
       "    </tr>\n",
       "    <tr>\n",
       "      <th>3</th>\n",
       "      <td>13015401</td>\n",
       "      <td>47830476</td>\n",
       "      <td>Natural causes</td>\n",
       "      <td>06/17/2018</td>\n",
       "      <td>Auto</td>\n",
       "      <td>No</td>\n",
       "      <td>Material only</td>\n",
       "      <td>$1680</td>\n",
       "      <td>1.0</td>\n",
       "      <td>No</td>\n",
       "    </tr>\n",
       "    <tr>\n",
       "      <th>4</th>\n",
       "      <td>22890252</td>\n",
       "      <td>19269962</td>\n",
       "      <td>Crime</td>\n",
       "      <td>01/13/2018</td>\n",
       "      <td>Auto</td>\n",
       "      <td>No</td>\n",
       "      <td>Material only</td>\n",
       "      <td>$2680</td>\n",
       "      <td>1.0</td>\n",
       "      <td>No</td>\n",
       "    </tr>\n",
       "  </tbody>\n",
       "</table>\n",
       "</div>"
      ],
      "text/plain": [
       "   claim_id  customer_id      incident_cause  claim_date claim_area  \\\n",
       "0  54004764     21868593        Driver error  11/27/2017       Auto   \n",
       "1  33985796     75740424               Crime  10/03/2018       Home   \n",
       "2  53522022     30308357  Other driver error  02/02/2018       Auto   \n",
       "3  13015401     47830476      Natural causes  06/17/2018       Auto   \n",
       "4  22890252     19269962               Crime  01/13/2018       Auto   \n",
       "\n",
       "  police_report     claim_type claim_amount  total_policy_claims fraudulent  \n",
       "0            No  Material only        $2980                  1.0         No  \n",
       "1       Unknown  Material only        $2980                  3.0         No  \n",
       "2            No  Material only      $3369.5                  1.0        Yes  \n",
       "3            No  Material only        $1680                  1.0         No  \n",
       "4            No  Material only        $2680                  1.0         No  "
      ]
     },
     "execution_count": 3,
     "metadata": {},
     "output_type": "execute_result"
    }
   ],
   "source": [
    "claim=pd.read_csv(\"claims.csv\")\n",
    "claim.head()"
   ]
  },
  {
   "cell_type": "code",
   "execution_count": 4,
   "metadata": {},
   "outputs": [
    {
     "name": "stdout",
     "output_type": "stream",
     "text": [
      "<class 'pandas.core.frame.DataFrame'>\n",
      "RangeIndex: 1100 entries, 0 to 1099\n",
      "Data columns (total 10 columns):\n",
      " #   Column               Non-Null Count  Dtype  \n",
      "---  ------               --------------  -----  \n",
      " 0   claim_id             1100 non-null   int64  \n",
      " 1   customer_id          1100 non-null   int64  \n",
      " 2   incident_cause       1100 non-null   object \n",
      " 3   claim_date           1100 non-null   object \n",
      " 4   claim_area           1100 non-null   object \n",
      " 5   police_report        1100 non-null   object \n",
      " 6   claim_type           1100 non-null   object \n",
      " 7   claim_amount         1035 non-null   object \n",
      " 8   total_policy_claims  1090 non-null   float64\n",
      " 9   fraudulent           1100 non-null   object \n",
      "dtypes: float64(1), int64(2), object(7)\n",
      "memory usage: 86.1+ KB\n"
     ]
    }
   ],
   "source": [
    "claim.info()"
   ]
  },
  {
   "cell_type": "code",
   "execution_count": 5,
   "metadata": {},
   "outputs": [
    {
     "data": {
      "text/html": [
       "<div>\n",
       "<style scoped>\n",
       "    .dataframe tbody tr th:only-of-type {\n",
       "        vertical-align: middle;\n",
       "    }\n",
       "\n",
       "    .dataframe tbody tr th {\n",
       "        vertical-align: top;\n",
       "    }\n",
       "\n",
       "    .dataframe thead th {\n",
       "        text-align: right;\n",
       "    }\n",
       "</style>\n",
       "<table border=\"1\" class=\"dataframe\">\n",
       "  <thead>\n",
       "    <tr style=\"text-align: right;\">\n",
       "      <th></th>\n",
       "      <th>CUST_ID</th>\n",
       "      <th>gender</th>\n",
       "      <th>DateOfBirth</th>\n",
       "      <th>State</th>\n",
       "      <th>Contact</th>\n",
       "      <th>Segment</th>\n",
       "    </tr>\n",
       "  </thead>\n",
       "  <tbody>\n",
       "    <tr>\n",
       "      <th>0</th>\n",
       "      <td>21868593</td>\n",
       "      <td>Female</td>\n",
       "      <td>12-Jan-79</td>\n",
       "      <td>VT</td>\n",
       "      <td>789-916-8172</td>\n",
       "      <td>Platinum</td>\n",
       "    </tr>\n",
       "    <tr>\n",
       "      <th>1</th>\n",
       "      <td>75740424</td>\n",
       "      <td>Female</td>\n",
       "      <td>13-Jan-70</td>\n",
       "      <td>ME</td>\n",
       "      <td>265-543-1264</td>\n",
       "      <td>Silver</td>\n",
       "    </tr>\n",
       "    <tr>\n",
       "      <th>2</th>\n",
       "      <td>30308357</td>\n",
       "      <td>Female</td>\n",
       "      <td>11-Mar-84</td>\n",
       "      <td>TN</td>\n",
       "      <td>798-631-4758</td>\n",
       "      <td>Silver</td>\n",
       "    </tr>\n",
       "    <tr>\n",
       "      <th>3</th>\n",
       "      <td>47830476</td>\n",
       "      <td>Female</td>\n",
       "      <td>01-May-86</td>\n",
       "      <td>MA</td>\n",
       "      <td>413-187-7945</td>\n",
       "      <td>Silver</td>\n",
       "    </tr>\n",
       "    <tr>\n",
       "      <th>4</th>\n",
       "      <td>19269962</td>\n",
       "      <td>Male</td>\n",
       "      <td>13-May-77</td>\n",
       "      <td>NV</td>\n",
       "      <td>956-871-8691</td>\n",
       "      <td>Gold</td>\n",
       "    </tr>\n",
       "  </tbody>\n",
       "</table>\n",
       "</div>"
      ],
      "text/plain": [
       "    CUST_ID  gender DateOfBirth State       Contact   Segment\n",
       "0  21868593  Female   12-Jan-79    VT  789-916-8172  Platinum\n",
       "1  75740424  Female   13-Jan-70    ME  265-543-1264    Silver\n",
       "2  30308357  Female   11-Mar-84    TN  798-631-4758    Silver\n",
       "3  47830476  Female   01-May-86    MA  413-187-7945    Silver\n",
       "4  19269962    Male   13-May-77    NV  956-871-8691      Gold"
      ]
     },
     "execution_count": 5,
     "metadata": {},
     "output_type": "execute_result"
    }
   ],
   "source": [
    "cust=pd.read_csv(\"cust_demographics.csv\")\n",
    "cust.head()"
   ]
  },
  {
   "cell_type": "code",
   "execution_count": 6,
   "metadata": {},
   "outputs": [
    {
     "name": "stdout",
     "output_type": "stream",
     "text": [
      "<class 'pandas.core.frame.DataFrame'>\n",
      "RangeIndex: 1085 entries, 0 to 1084\n",
      "Data columns (total 6 columns):\n",
      " #   Column       Non-Null Count  Dtype \n",
      "---  ------       --------------  ----- \n",
      " 0   CUST_ID      1085 non-null   int64 \n",
      " 1   gender       1085 non-null   object\n",
      " 2   DateOfBirth  1085 non-null   object\n",
      " 3   State        1085 non-null   object\n",
      " 4   Contact      1085 non-null   object\n",
      " 5   Segment      1085 non-null   object\n",
      "dtypes: int64(1), object(5)\n",
      "memory usage: 51.0+ KB\n"
     ]
    }
   ],
   "source": [
    "cust.info()"
   ]
  },
  {
   "cell_type": "code",
   "execution_count": 7,
   "metadata": {},
   "outputs": [
    {
     "data": {
      "text/plain": [
       "((1100, 10), (1085, 6))"
      ]
     },
     "execution_count": 7,
     "metadata": {},
     "output_type": "execute_result"
    }
   ],
   "source": [
    "claim.shape , cust.shape"
   ]
  },
  {
   "cell_type": "code",
   "execution_count": 8,
   "metadata": {},
   "outputs": [
    {
     "data": {
      "text/plain": [
       "(1085, 15)"
      ]
     },
     "execution_count": 8,
     "metadata": {},
     "output_type": "execute_result"
    }
   ],
   "source": [
    "df=pd.merge(cust,claim,left_on=\"CUST_ID\",right_on=\"customer_id\",how=\"inner\").drop(\"customer_id\",axis=1)\n",
    "df.shape"
   ]
  },
  {
   "cell_type": "code",
   "execution_count": 9,
   "metadata": {},
   "outputs": [
    {
     "data": {
      "text/html": [
       "<div>\n",
       "<style scoped>\n",
       "    .dataframe tbody tr th:only-of-type {\n",
       "        vertical-align: middle;\n",
       "    }\n",
       "\n",
       "    .dataframe tbody tr th {\n",
       "        vertical-align: top;\n",
       "    }\n",
       "\n",
       "    .dataframe thead th {\n",
       "        text-align: right;\n",
       "    }\n",
       "</style>\n",
       "<table border=\"1\" class=\"dataframe\">\n",
       "  <thead>\n",
       "    <tr style=\"text-align: right;\">\n",
       "      <th></th>\n",
       "      <th>CUST_ID</th>\n",
       "      <th>gender</th>\n",
       "      <th>DateOfBirth</th>\n",
       "      <th>State</th>\n",
       "      <th>Contact</th>\n",
       "      <th>Segment</th>\n",
       "      <th>claim_id</th>\n",
       "      <th>incident_cause</th>\n",
       "      <th>claim_date</th>\n",
       "      <th>claim_area</th>\n",
       "      <th>police_report</th>\n",
       "      <th>claim_type</th>\n",
       "      <th>claim_amount</th>\n",
       "      <th>total_policy_claims</th>\n",
       "      <th>fraudulent</th>\n",
       "    </tr>\n",
       "  </thead>\n",
       "  <tbody>\n",
       "    <tr>\n",
       "      <th>0</th>\n",
       "      <td>21868593</td>\n",
       "      <td>Female</td>\n",
       "      <td>12-Jan-79</td>\n",
       "      <td>VT</td>\n",
       "      <td>789-916-8172</td>\n",
       "      <td>Platinum</td>\n",
       "      <td>54004764</td>\n",
       "      <td>Driver error</td>\n",
       "      <td>11/27/2017</td>\n",
       "      <td>Auto</td>\n",
       "      <td>No</td>\n",
       "      <td>Material only</td>\n",
       "      <td>$2980</td>\n",
       "      <td>1.0</td>\n",
       "      <td>No</td>\n",
       "    </tr>\n",
       "    <tr>\n",
       "      <th>1</th>\n",
       "      <td>75740424</td>\n",
       "      <td>Female</td>\n",
       "      <td>13-Jan-70</td>\n",
       "      <td>ME</td>\n",
       "      <td>265-543-1264</td>\n",
       "      <td>Silver</td>\n",
       "      <td>33985796</td>\n",
       "      <td>Crime</td>\n",
       "      <td>10/03/2018</td>\n",
       "      <td>Home</td>\n",
       "      <td>Unknown</td>\n",
       "      <td>Material only</td>\n",
       "      <td>$2980</td>\n",
       "      <td>3.0</td>\n",
       "      <td>No</td>\n",
       "    </tr>\n",
       "    <tr>\n",
       "      <th>2</th>\n",
       "      <td>30308357</td>\n",
       "      <td>Female</td>\n",
       "      <td>11-Mar-84</td>\n",
       "      <td>TN</td>\n",
       "      <td>798-631-4758</td>\n",
       "      <td>Silver</td>\n",
       "      <td>53522022</td>\n",
       "      <td>Other driver error</td>\n",
       "      <td>02/02/2018</td>\n",
       "      <td>Auto</td>\n",
       "      <td>No</td>\n",
       "      <td>Material only</td>\n",
       "      <td>$3369.5</td>\n",
       "      <td>1.0</td>\n",
       "      <td>Yes</td>\n",
       "    </tr>\n",
       "    <tr>\n",
       "      <th>3</th>\n",
       "      <td>30308357</td>\n",
       "      <td>Female</td>\n",
       "      <td>11-Mar-84</td>\n",
       "      <td>TN</td>\n",
       "      <td>798-631-4758</td>\n",
       "      <td>Silver</td>\n",
       "      <td>63017412</td>\n",
       "      <td>Driver error</td>\n",
       "      <td>04/04/2018</td>\n",
       "      <td>Auto</td>\n",
       "      <td>No</td>\n",
       "      <td>Material only</td>\n",
       "      <td>$1950</td>\n",
       "      <td>6.0</td>\n",
       "      <td>No</td>\n",
       "    </tr>\n",
       "    <tr>\n",
       "      <th>4</th>\n",
       "      <td>47830476</td>\n",
       "      <td>Female</td>\n",
       "      <td>01-May-86</td>\n",
       "      <td>MA</td>\n",
       "      <td>413-187-7945</td>\n",
       "      <td>Silver</td>\n",
       "      <td>13015401</td>\n",
       "      <td>Natural causes</td>\n",
       "      <td>06/17/2018</td>\n",
       "      <td>Auto</td>\n",
       "      <td>No</td>\n",
       "      <td>Material only</td>\n",
       "      <td>$1680</td>\n",
       "      <td>1.0</td>\n",
       "      <td>No</td>\n",
       "    </tr>\n",
       "  </tbody>\n",
       "</table>\n",
       "</div>"
      ],
      "text/plain": [
       "    CUST_ID  gender DateOfBirth State       Contact   Segment  claim_id  \\\n",
       "0  21868593  Female   12-Jan-79    VT  789-916-8172  Platinum  54004764   \n",
       "1  75740424  Female   13-Jan-70    ME  265-543-1264    Silver  33985796   \n",
       "2  30308357  Female   11-Mar-84    TN  798-631-4758    Silver  53522022   \n",
       "3  30308357  Female   11-Mar-84    TN  798-631-4758    Silver  63017412   \n",
       "4  47830476  Female   01-May-86    MA  413-187-7945    Silver  13015401   \n",
       "\n",
       "       incident_cause  claim_date claim_area police_report     claim_type  \\\n",
       "0        Driver error  11/27/2017       Auto            No  Material only   \n",
       "1               Crime  10/03/2018       Home       Unknown  Material only   \n",
       "2  Other driver error  02/02/2018       Auto            No  Material only   \n",
       "3        Driver error  04/04/2018       Auto            No  Material only   \n",
       "4      Natural causes  06/17/2018       Auto            No  Material only   \n",
       "\n",
       "  claim_amount  total_policy_claims fraudulent  \n",
       "0        $2980                  1.0         No  \n",
       "1        $2980                  3.0         No  \n",
       "2      $3369.5                  1.0        Yes  \n",
       "3        $1950                  6.0         No  \n",
       "4        $1680                  1.0         No  "
      ]
     },
     "execution_count": 9,
     "metadata": {},
     "output_type": "execute_result"
    }
   ],
   "source": [
    "df.head()"
   ]
  },
  {
   "cell_type": "code",
   "execution_count": 10,
   "metadata": {},
   "outputs": [
    {
     "data": {
      "text/plain": [
       "CUST_ID                  int64\n",
       "gender                  object\n",
       "DateOfBirth             object\n",
       "State                   object\n",
       "Contact                 object\n",
       "Segment                 object\n",
       "claim_id                 int64\n",
       "incident_cause          object\n",
       "claim_date              object\n",
       "claim_area              object\n",
       "police_report           object\n",
       "claim_type              object\n",
       "claim_amount            object\n",
       "total_policy_claims    float64\n",
       "fraudulent              object\n",
       "dtype: object"
      ]
     },
     "execution_count": 10,
     "metadata": {},
     "output_type": "execute_result"
    }
   ],
   "source": [
    "df.dtypes"
   ]
  },
  {
   "cell_type": "code",
   "execution_count": 11,
   "metadata": {},
   "outputs": [
    {
     "data": {
      "text/plain": [
       "CUST_ID                 object\n",
       "gender                  object\n",
       "DateOfBirth             object\n",
       "State                   object\n",
       "Contact                 object\n",
       "Segment                 object\n",
       "claim_id                 int64\n",
       "incident_cause          object\n",
       "claim_date              object\n",
       "claim_area              object\n",
       "police_report           object\n",
       "claim_type              object\n",
       "claim_amount            object\n",
       "total_policy_claims    float64\n",
       "fraudulent              object\n",
       "dtype: object"
      ]
     },
     "execution_count": 11,
     "metadata": {},
     "output_type": "execute_result"
    }
   ],
   "source": [
    "df.CUST_ID=df.CUST_ID.astype(object)\n",
    "df.dtypes"
   ]
  },
  {
   "cell_type": "code",
   "execution_count": 12,
   "metadata": {},
   "outputs": [
    {
     "data": {
      "text/plain": [
       "0      1979-01-12\n",
       "1      1970-01-13\n",
       "2      1984-03-11\n",
       "3      1984-03-11\n",
       "4      1986-05-01\n",
       "          ...    \n",
       "1080   1981-03-15\n",
       "1081   1996-07-07\n",
       "1082   1990-04-11\n",
       "1083   2064-10-22\n",
       "1084   1995-07-12\n",
       "Name: DateOfBirth, Length: 1085, dtype: datetime64[ns]"
      ]
     },
     "execution_count": 12,
     "metadata": {},
     "output_type": "execute_result"
    }
   ],
   "source": [
    "df[\"DateOfBirth\"] = pd.to_datetime(df.DateOfBirth, format = \"%d-%b-%y\")\n",
    "df[\"DateOfBirth\"]"
   ]
  },
  {
   "cell_type": "code",
   "execution_count": 13,
   "metadata": {},
   "outputs": [
    {
     "data": {
      "text/html": [
       "<div>\n",
       "<style scoped>\n",
       "    .dataframe tbody tr th:only-of-type {\n",
       "        vertical-align: middle;\n",
       "    }\n",
       "\n",
       "    .dataframe tbody tr th {\n",
       "        vertical-align: top;\n",
       "    }\n",
       "\n",
       "    .dataframe thead th {\n",
       "        text-align: right;\n",
       "    }\n",
       "</style>\n",
       "<table border=\"1\" class=\"dataframe\">\n",
       "  <thead>\n",
       "    <tr style=\"text-align: right;\">\n",
       "      <th></th>\n",
       "      <th>CUST_ID</th>\n",
       "      <th>gender</th>\n",
       "      <th>DateOfBirth</th>\n",
       "      <th>State</th>\n",
       "      <th>Contact</th>\n",
       "      <th>Segment</th>\n",
       "      <th>claim_id</th>\n",
       "      <th>incident_cause</th>\n",
       "      <th>claim_date</th>\n",
       "      <th>claim_area</th>\n",
       "      <th>police_report</th>\n",
       "      <th>claim_type</th>\n",
       "      <th>claim_amount</th>\n",
       "      <th>total_policy_claims</th>\n",
       "      <th>fraudulent</th>\n",
       "    </tr>\n",
       "  </thead>\n",
       "  <tbody>\n",
       "    <tr>\n",
       "      <th>0</th>\n",
       "      <td>21868593</td>\n",
       "      <td>Female</td>\n",
       "      <td>1979-01-12</td>\n",
       "      <td>VT</td>\n",
       "      <td>789-916-8172</td>\n",
       "      <td>Platinum</td>\n",
       "      <td>54004764</td>\n",
       "      <td>Driver error</td>\n",
       "      <td>11/27/2017</td>\n",
       "      <td>Auto</td>\n",
       "      <td>No</td>\n",
       "      <td>Material only</td>\n",
       "      <td>$2980</td>\n",
       "      <td>1.0</td>\n",
       "      <td>No</td>\n",
       "    </tr>\n",
       "    <tr>\n",
       "      <th>1</th>\n",
       "      <td>75740424</td>\n",
       "      <td>Female</td>\n",
       "      <td>1970-01-13</td>\n",
       "      <td>ME</td>\n",
       "      <td>265-543-1264</td>\n",
       "      <td>Silver</td>\n",
       "      <td>33985796</td>\n",
       "      <td>Crime</td>\n",
       "      <td>10/03/2018</td>\n",
       "      <td>Home</td>\n",
       "      <td>Unknown</td>\n",
       "      <td>Material only</td>\n",
       "      <td>$2980</td>\n",
       "      <td>3.0</td>\n",
       "      <td>No</td>\n",
       "    </tr>\n",
       "    <tr>\n",
       "      <th>2</th>\n",
       "      <td>30308357</td>\n",
       "      <td>Female</td>\n",
       "      <td>1984-03-11</td>\n",
       "      <td>TN</td>\n",
       "      <td>798-631-4758</td>\n",
       "      <td>Silver</td>\n",
       "      <td>53522022</td>\n",
       "      <td>Other driver error</td>\n",
       "      <td>02/02/2018</td>\n",
       "      <td>Auto</td>\n",
       "      <td>No</td>\n",
       "      <td>Material only</td>\n",
       "      <td>$3369.5</td>\n",
       "      <td>1.0</td>\n",
       "      <td>Yes</td>\n",
       "    </tr>\n",
       "    <tr>\n",
       "      <th>3</th>\n",
       "      <td>30308357</td>\n",
       "      <td>Female</td>\n",
       "      <td>1984-03-11</td>\n",
       "      <td>TN</td>\n",
       "      <td>798-631-4758</td>\n",
       "      <td>Silver</td>\n",
       "      <td>63017412</td>\n",
       "      <td>Driver error</td>\n",
       "      <td>04/04/2018</td>\n",
       "      <td>Auto</td>\n",
       "      <td>No</td>\n",
       "      <td>Material only</td>\n",
       "      <td>$1950</td>\n",
       "      <td>6.0</td>\n",
       "      <td>No</td>\n",
       "    </tr>\n",
       "    <tr>\n",
       "      <th>4</th>\n",
       "      <td>47830476</td>\n",
       "      <td>Female</td>\n",
       "      <td>1986-05-01</td>\n",
       "      <td>MA</td>\n",
       "      <td>413-187-7945</td>\n",
       "      <td>Silver</td>\n",
       "      <td>13015401</td>\n",
       "      <td>Natural causes</td>\n",
       "      <td>06/17/2018</td>\n",
       "      <td>Auto</td>\n",
       "      <td>No</td>\n",
       "      <td>Material only</td>\n",
       "      <td>$1680</td>\n",
       "      <td>1.0</td>\n",
       "      <td>No</td>\n",
       "    </tr>\n",
       "  </tbody>\n",
       "</table>\n",
       "</div>"
      ],
      "text/plain": [
       "    CUST_ID  gender DateOfBirth State       Contact   Segment  claim_id  \\\n",
       "0  21868593  Female  1979-01-12    VT  789-916-8172  Platinum  54004764   \n",
       "1  75740424  Female  1970-01-13    ME  265-543-1264    Silver  33985796   \n",
       "2  30308357  Female  1984-03-11    TN  798-631-4758    Silver  53522022   \n",
       "3  30308357  Female  1984-03-11    TN  798-631-4758    Silver  63017412   \n",
       "4  47830476  Female  1986-05-01    MA  413-187-7945    Silver  13015401   \n",
       "\n",
       "       incident_cause  claim_date claim_area police_report     claim_type  \\\n",
       "0        Driver error  11/27/2017       Auto            No  Material only   \n",
       "1               Crime  10/03/2018       Home       Unknown  Material only   \n",
       "2  Other driver error  02/02/2018       Auto            No  Material only   \n",
       "3        Driver error  04/04/2018       Auto            No  Material only   \n",
       "4      Natural causes  06/17/2018       Auto            No  Material only   \n",
       "\n",
       "  claim_amount  total_policy_claims fraudulent  \n",
       "0        $2980                  1.0         No  \n",
       "1        $2980                  3.0         No  \n",
       "2      $3369.5                  1.0        Yes  \n",
       "3        $1950                  6.0         No  \n",
       "4        $1680                  1.0         No  "
      ]
     },
     "execution_count": 13,
     "metadata": {},
     "output_type": "execute_result"
    }
   ],
   "source": [
    "df.loc[(df.DateOfBirth.dt.year > 2020),\"DateOfBirth\"]=df[df.DateOfBirth.dt.year > 2020][\"DateOfBirth\"].apply(lambda x: x - pd.DateOffset(years=100))\n",
    "df.head()"
   ]
  },
  {
   "cell_type": "code",
   "execution_count": 14,
   "metadata": {},
   "outputs": [
    {
     "data": {
      "text/plain": [
       "0      1979-01-12\n",
       "1      1970-01-13\n",
       "2      1984-03-11\n",
       "3      1984-03-11\n",
       "4      1986-05-01\n",
       "          ...    \n",
       "1080   1981-03-15\n",
       "1081   1996-07-07\n",
       "1082   1990-04-11\n",
       "1083   1964-10-22\n",
       "1084   1995-07-12\n",
       "Name: DateOfBirth, Length: 1085, dtype: datetime64[ns]"
      ]
     },
     "execution_count": 14,
     "metadata": {},
     "output_type": "execute_result"
    }
   ],
   "source": [
    "df[\"DateOfBirth\"]"
   ]
  },
  {
   "cell_type": "code",
   "execution_count": 15,
   "metadata": {},
   "outputs": [
    {
     "data": {
      "text/html": [
       "<div>\n",
       "<style scoped>\n",
       "    .dataframe tbody tr th:only-of-type {\n",
       "        vertical-align: middle;\n",
       "    }\n",
       "\n",
       "    .dataframe tbody tr th {\n",
       "        vertical-align: top;\n",
       "    }\n",
       "\n",
       "    .dataframe thead th {\n",
       "        text-align: right;\n",
       "    }\n",
       "</style>\n",
       "<table border=\"1\" class=\"dataframe\">\n",
       "  <thead>\n",
       "    <tr style=\"text-align: right;\">\n",
       "      <th></th>\n",
       "      <th>CUST_ID</th>\n",
       "      <th>gender</th>\n",
       "      <th>DateOfBirth</th>\n",
       "      <th>State</th>\n",
       "      <th>Contact</th>\n",
       "      <th>Segment</th>\n",
       "      <th>claim_id</th>\n",
       "      <th>incident_cause</th>\n",
       "      <th>claim_date</th>\n",
       "      <th>claim_area</th>\n",
       "      <th>police_report</th>\n",
       "      <th>claim_type</th>\n",
       "      <th>claim_amount</th>\n",
       "      <th>total_policy_claims</th>\n",
       "      <th>fraudulent</th>\n",
       "    </tr>\n",
       "  </thead>\n",
       "  <tbody>\n",
       "    <tr>\n",
       "      <th>0</th>\n",
       "      <td>21868593</td>\n",
       "      <td>Female</td>\n",
       "      <td>1979-01-12</td>\n",
       "      <td>VT</td>\n",
       "      <td>7899168172</td>\n",
       "      <td>Platinum</td>\n",
       "      <td>54004764</td>\n",
       "      <td>Driver error</td>\n",
       "      <td>2017-11-27</td>\n",
       "      <td>Auto</td>\n",
       "      <td>No</td>\n",
       "      <td>Material only</td>\n",
       "      <td>2980.0</td>\n",
       "      <td>1.0</td>\n",
       "      <td>No</td>\n",
       "    </tr>\n",
       "    <tr>\n",
       "      <th>1</th>\n",
       "      <td>75740424</td>\n",
       "      <td>Female</td>\n",
       "      <td>1970-01-13</td>\n",
       "      <td>ME</td>\n",
       "      <td>2655431264</td>\n",
       "      <td>Silver</td>\n",
       "      <td>33985796</td>\n",
       "      <td>Crime</td>\n",
       "      <td>2018-10-03</td>\n",
       "      <td>Home</td>\n",
       "      <td>Unknown</td>\n",
       "      <td>Material only</td>\n",
       "      <td>2980.0</td>\n",
       "      <td>3.0</td>\n",
       "      <td>No</td>\n",
       "    </tr>\n",
       "    <tr>\n",
       "      <th>2</th>\n",
       "      <td>30308357</td>\n",
       "      <td>Female</td>\n",
       "      <td>1984-03-11</td>\n",
       "      <td>TN</td>\n",
       "      <td>7986314758</td>\n",
       "      <td>Silver</td>\n",
       "      <td>53522022</td>\n",
       "      <td>Other driver error</td>\n",
       "      <td>2018-02-02</td>\n",
       "      <td>Auto</td>\n",
       "      <td>No</td>\n",
       "      <td>Material only</td>\n",
       "      <td>3369.5</td>\n",
       "      <td>1.0</td>\n",
       "      <td>Yes</td>\n",
       "    </tr>\n",
       "    <tr>\n",
       "      <th>3</th>\n",
       "      <td>30308357</td>\n",
       "      <td>Female</td>\n",
       "      <td>1984-03-11</td>\n",
       "      <td>TN</td>\n",
       "      <td>7986314758</td>\n",
       "      <td>Silver</td>\n",
       "      <td>63017412</td>\n",
       "      <td>Driver error</td>\n",
       "      <td>2018-04-04</td>\n",
       "      <td>Auto</td>\n",
       "      <td>No</td>\n",
       "      <td>Material only</td>\n",
       "      <td>1950.0</td>\n",
       "      <td>6.0</td>\n",
       "      <td>No</td>\n",
       "    </tr>\n",
       "    <tr>\n",
       "      <th>4</th>\n",
       "      <td>47830476</td>\n",
       "      <td>Female</td>\n",
       "      <td>1986-05-01</td>\n",
       "      <td>MA</td>\n",
       "      <td>4131877945</td>\n",
       "      <td>Silver</td>\n",
       "      <td>13015401</td>\n",
       "      <td>Natural causes</td>\n",
       "      <td>2018-06-17</td>\n",
       "      <td>Auto</td>\n",
       "      <td>No</td>\n",
       "      <td>Material only</td>\n",
       "      <td>1680.0</td>\n",
       "      <td>1.0</td>\n",
       "      <td>No</td>\n",
       "    </tr>\n",
       "  </tbody>\n",
       "</table>\n",
       "</div>"
      ],
      "text/plain": [
       "    CUST_ID  gender DateOfBirth State     Contact   Segment  claim_id  \\\n",
       "0  21868593  Female  1979-01-12    VT  7899168172  Platinum  54004764   \n",
       "1  75740424  Female  1970-01-13    ME  2655431264    Silver  33985796   \n",
       "2  30308357  Female  1984-03-11    TN  7986314758    Silver  53522022   \n",
       "3  30308357  Female  1984-03-11    TN  7986314758    Silver  63017412   \n",
       "4  47830476  Female  1986-05-01    MA  4131877945    Silver  13015401   \n",
       "\n",
       "       incident_cause claim_date claim_area police_report     claim_type  \\\n",
       "0        Driver error 2017-11-27       Auto            No  Material only   \n",
       "1               Crime 2018-10-03       Home       Unknown  Material only   \n",
       "2  Other driver error 2018-02-02       Auto            No  Material only   \n",
       "3        Driver error 2018-04-04       Auto            No  Material only   \n",
       "4      Natural causes 2018-06-17       Auto            No  Material only   \n",
       "\n",
       "   claim_amount  total_policy_claims fraudulent  \n",
       "0        2980.0                  1.0         No  \n",
       "1        2980.0                  3.0         No  \n",
       "2        3369.5                  1.0        Yes  \n",
       "3        1950.0                  6.0         No  \n",
       "4        1680.0                  1.0         No  "
      ]
     },
     "execution_count": 15,
     "metadata": {},
     "output_type": "execute_result"
    }
   ],
   "source": [
    "df[\"claim_date\"] = pd.to_datetime(df.claim_date, format = \"%m/%d/%Y\")\n",
    "df[\"Contact\"] = pd.to_numeric(df.Contact.str.replace(\"-\",\"\"))\n",
    "df[\"claim_amount\"] = pd.to_numeric(df.claim_amount.str.replace(\"$\",\"\"),downcast='float')\n",
    "df.head()"
   ]
  },
  {
   "cell_type": "code",
   "execution_count": 16,
   "metadata": {},
   "outputs": [
    {
     "data": {
      "text/plain": [
       "CUST_ID                        object\n",
       "gender                         object\n",
       "DateOfBirth            datetime64[ns]\n",
       "State                          object\n",
       "Contact                         int64\n",
       "Segment                        object\n",
       "claim_id                        int64\n",
       "incident_cause                 object\n",
       "claim_date             datetime64[ns]\n",
       "claim_area                     object\n",
       "police_report                  object\n",
       "claim_type                     object\n",
       "claim_amount                  float32\n",
       "total_policy_claims           float64\n",
       "fraudulent                     object\n",
       "dtype: object"
      ]
     },
     "execution_count": 16,
     "metadata": {},
     "output_type": "execute_result"
    }
   ],
   "source": [
    "df.dtypes"
   ]
  },
  {
   "cell_type": "markdown",
   "metadata": {},
   "source": [
    "4. Of all the injury claims, some of them have gone unreported with the\n",
    "police. Create an alert flag (1,0) for all such claims.\n"
   ]
  },
  {
   "cell_type": "code",
   "execution_count": 17,
   "metadata": {},
   "outputs": [],
   "source": [
    "df[\"flag\"] = np.where(df.police_report == \"No\", 0 ,\n",
    "                    np.where(df.police_report == \"Yes\", 1, np.nan))"
   ]
  },
  {
   "cell_type": "code",
   "execution_count": 18,
   "metadata": {},
   "outputs": [
    {
     "data": {
      "text/html": [
       "<div>\n",
       "<style scoped>\n",
       "    .dataframe tbody tr th:only-of-type {\n",
       "        vertical-align: middle;\n",
       "    }\n",
       "\n",
       "    .dataframe tbody tr th {\n",
       "        vertical-align: top;\n",
       "    }\n",
       "\n",
       "    .dataframe thead th {\n",
       "        text-align: right;\n",
       "    }\n",
       "</style>\n",
       "<table border=\"1\" class=\"dataframe\">\n",
       "  <thead>\n",
       "    <tr style=\"text-align: right;\">\n",
       "      <th></th>\n",
       "      <th>CUST_ID</th>\n",
       "      <th>gender</th>\n",
       "      <th>DateOfBirth</th>\n",
       "      <th>State</th>\n",
       "      <th>Contact</th>\n",
       "      <th>Segment</th>\n",
       "      <th>claim_id</th>\n",
       "      <th>incident_cause</th>\n",
       "      <th>claim_date</th>\n",
       "      <th>claim_area</th>\n",
       "      <th>police_report</th>\n",
       "      <th>claim_type</th>\n",
       "      <th>claim_amount</th>\n",
       "      <th>total_policy_claims</th>\n",
       "      <th>fraudulent</th>\n",
       "      <th>flag</th>\n",
       "    </tr>\n",
       "  </thead>\n",
       "  <tbody>\n",
       "    <tr>\n",
       "      <th>0</th>\n",
       "      <td>21868593</td>\n",
       "      <td>Female</td>\n",
       "      <td>1979-01-12</td>\n",
       "      <td>VT</td>\n",
       "      <td>7899168172</td>\n",
       "      <td>Platinum</td>\n",
       "      <td>54004764</td>\n",
       "      <td>Driver error</td>\n",
       "      <td>2017-11-27</td>\n",
       "      <td>Auto</td>\n",
       "      <td>No</td>\n",
       "      <td>Material only</td>\n",
       "      <td>2980.0</td>\n",
       "      <td>1.0</td>\n",
       "      <td>No</td>\n",
       "      <td>0.0</td>\n",
       "    </tr>\n",
       "    <tr>\n",
       "      <th>1</th>\n",
       "      <td>75740424</td>\n",
       "      <td>Female</td>\n",
       "      <td>1970-01-13</td>\n",
       "      <td>ME</td>\n",
       "      <td>2655431264</td>\n",
       "      <td>Silver</td>\n",
       "      <td>33985796</td>\n",
       "      <td>Crime</td>\n",
       "      <td>2018-10-03</td>\n",
       "      <td>Home</td>\n",
       "      <td>Unknown</td>\n",
       "      <td>Material only</td>\n",
       "      <td>2980.0</td>\n",
       "      <td>3.0</td>\n",
       "      <td>No</td>\n",
       "      <td>NaN</td>\n",
       "    </tr>\n",
       "  </tbody>\n",
       "</table>\n",
       "</div>"
      ],
      "text/plain": [
       "    CUST_ID  gender DateOfBirth State     Contact   Segment  claim_id  \\\n",
       "0  21868593  Female  1979-01-12    VT  7899168172  Platinum  54004764   \n",
       "1  75740424  Female  1970-01-13    ME  2655431264    Silver  33985796   \n",
       "\n",
       "  incident_cause claim_date claim_area police_report     claim_type  \\\n",
       "0   Driver error 2017-11-27       Auto            No  Material only   \n",
       "1          Crime 2018-10-03       Home       Unknown  Material only   \n",
       "\n",
       "   claim_amount  total_policy_claims fraudulent  flag  \n",
       "0        2980.0                  1.0         No   0.0  \n",
       "1        2980.0                  3.0         No   NaN  "
      ]
     },
     "execution_count": 18,
     "metadata": {},
     "output_type": "execute_result"
    }
   ],
   "source": [
    "df.head(2)"
   ]
  },
  {
   "cell_type": "code",
   "execution_count": 19,
   "metadata": {},
   "outputs": [
    {
     "data": {
      "text/html": [
       "<div>\n",
       "<style scoped>\n",
       "    .dataframe tbody tr th:only-of-type {\n",
       "        vertical-align: middle;\n",
       "    }\n",
       "\n",
       "    .dataframe tbody tr th {\n",
       "        vertical-align: top;\n",
       "    }\n",
       "\n",
       "    .dataframe thead th {\n",
       "        text-align: right;\n",
       "    }\n",
       "</style>\n",
       "<table border=\"1\" class=\"dataframe\">\n",
       "  <thead>\n",
       "    <tr style=\"text-align: right;\">\n",
       "      <th></th>\n",
       "      <th>CUST_ID</th>\n",
       "      <th>gender</th>\n",
       "      <th>DateOfBirth</th>\n",
       "      <th>State</th>\n",
       "      <th>Contact</th>\n",
       "      <th>Segment</th>\n",
       "      <th>claim_id</th>\n",
       "      <th>incident_cause</th>\n",
       "      <th>claim_date</th>\n",
       "      <th>claim_area</th>\n",
       "      <th>claim_type</th>\n",
       "      <th>claim_amount</th>\n",
       "      <th>total_policy_claims</th>\n",
       "      <th>fraudulent</th>\n",
       "      <th>flag</th>\n",
       "    </tr>\n",
       "  </thead>\n",
       "  <tbody>\n",
       "    <tr>\n",
       "      <th>0</th>\n",
       "      <td>21868593</td>\n",
       "      <td>Female</td>\n",
       "      <td>1979-01-12</td>\n",
       "      <td>VT</td>\n",
       "      <td>7899168172</td>\n",
       "      <td>Platinum</td>\n",
       "      <td>54004764</td>\n",
       "      <td>Driver error</td>\n",
       "      <td>2017-11-27</td>\n",
       "      <td>Auto</td>\n",
       "      <td>Material only</td>\n",
       "      <td>2980.0</td>\n",
       "      <td>1.0</td>\n",
       "      <td>No</td>\n",
       "      <td>0.0</td>\n",
       "    </tr>\n",
       "    <tr>\n",
       "      <th>1</th>\n",
       "      <td>75740424</td>\n",
       "      <td>Female</td>\n",
       "      <td>1970-01-13</td>\n",
       "      <td>ME</td>\n",
       "      <td>2655431264</td>\n",
       "      <td>Silver</td>\n",
       "      <td>33985796</td>\n",
       "      <td>Crime</td>\n",
       "      <td>2018-10-03</td>\n",
       "      <td>Home</td>\n",
       "      <td>Material only</td>\n",
       "      <td>2980.0</td>\n",
       "      <td>3.0</td>\n",
       "      <td>No</td>\n",
       "      <td>NaN</td>\n",
       "    </tr>\n",
       "  </tbody>\n",
       "</table>\n",
       "</div>"
      ],
      "text/plain": [
       "    CUST_ID  gender DateOfBirth State     Contact   Segment  claim_id  \\\n",
       "0  21868593  Female  1979-01-12    VT  7899168172  Platinum  54004764   \n",
       "1  75740424  Female  1970-01-13    ME  2655431264    Silver  33985796   \n",
       "\n",
       "  incident_cause claim_date claim_area     claim_type  claim_amount  \\\n",
       "0   Driver error 2017-11-27       Auto  Material only        2980.0   \n",
       "1          Crime 2018-10-03       Home  Material only        2980.0   \n",
       "\n",
       "   total_policy_claims fraudulent  flag  \n",
       "0                  1.0         No   0.0  \n",
       "1                  3.0         No   NaN  "
      ]
     },
     "execution_count": 19,
     "metadata": {},
     "output_type": "execute_result"
    }
   ],
   "source": [
    "df.drop(columns = [\"police_report\"], inplace = True)\n",
    "df.head(2)"
   ]
  },
  {
   "cell_type": "code",
   "execution_count": 20,
   "metadata": {},
   "outputs": [],
   "source": [
    "c1=df.CUST_ID.value_counts()"
   ]
  },
  {
   "cell_type": "code",
   "execution_count": 21,
   "metadata": {},
   "outputs": [
    {
     "data": {
      "text/html": [
       "<div>\n",
       "<style scoped>\n",
       "    .dataframe tbody tr th:only-of-type {\n",
       "        vertical-align: middle;\n",
       "    }\n",
       "\n",
       "    .dataframe tbody tr th {\n",
       "        vertical-align: top;\n",
       "    }\n",
       "\n",
       "    .dataframe thead th {\n",
       "        text-align: right;\n",
       "    }\n",
       "</style>\n",
       "<table border=\"1\" class=\"dataframe\">\n",
       "  <thead>\n",
       "    <tr style=\"text-align: right;\">\n",
       "      <th></th>\n",
       "      <th>CUST_ID</th>\n",
       "    </tr>\n",
       "  </thead>\n",
       "  <tbody>\n",
       "    <tr>\n",
       "      <th>84147585</th>\n",
       "      <td>2</td>\n",
       "    </tr>\n",
       "    <tr>\n",
       "      <th>21831191</th>\n",
       "      <td>2</td>\n",
       "    </tr>\n",
       "    <tr>\n",
       "      <th>19269962</th>\n",
       "      <td>2</td>\n",
       "    </tr>\n",
       "    <tr>\n",
       "      <th>53539195</th>\n",
       "      <td>2</td>\n",
       "    </tr>\n",
       "    <tr>\n",
       "      <th>85357756</th>\n",
       "      <td>2</td>\n",
       "    </tr>\n",
       "    <tr>\n",
       "      <th>47830476</th>\n",
       "      <td>2</td>\n",
       "    </tr>\n",
       "    <tr>\n",
       "      <th>30308357</th>\n",
       "      <td>2</td>\n",
       "    </tr>\n",
       "  </tbody>\n",
       "</table>\n",
       "</div>"
      ],
      "text/plain": [
       "          CUST_ID\n",
       "84147585        2\n",
       "21831191        2\n",
       "19269962        2\n",
       "53539195        2\n",
       "85357756        2\n",
       "47830476        2\n",
       "30308357        2"
      ]
     },
     "execution_count": 21,
     "metadata": {},
     "output_type": "execute_result"
    }
   ],
   "source": [
    "c1=c1.to_frame()\n",
    "c1.loc[c1[\"CUST_ID\"]>1]"
   ]
  },
  {
   "cell_type": "code",
   "execution_count": 22,
   "metadata": {},
   "outputs": [],
   "source": [
    "df=df.sort_values(by=\"claim_date\",ascending=False).reset_index().drop(\"index\",axis=1)"
   ]
  },
  {
   "cell_type": "code",
   "execution_count": 23,
   "metadata": {
    "scrolled": true
   },
   "outputs": [
    {
     "data": {
      "text/html": [
       "<div>\n",
       "<style scoped>\n",
       "    .dataframe tbody tr th:only-of-type {\n",
       "        vertical-align: middle;\n",
       "    }\n",
       "\n",
       "    .dataframe tbody tr th {\n",
       "        vertical-align: top;\n",
       "    }\n",
       "\n",
       "    .dataframe thead th {\n",
       "        text-align: right;\n",
       "    }\n",
       "</style>\n",
       "<table border=\"1\" class=\"dataframe\">\n",
       "  <thead>\n",
       "    <tr style=\"text-align: right;\">\n",
       "      <th></th>\n",
       "      <th>CUST_ID</th>\n",
       "      <th>gender</th>\n",
       "      <th>DateOfBirth</th>\n",
       "      <th>State</th>\n",
       "      <th>Contact</th>\n",
       "      <th>Segment</th>\n",
       "      <th>claim_id</th>\n",
       "      <th>incident_cause</th>\n",
       "      <th>claim_date</th>\n",
       "      <th>claim_area</th>\n",
       "      <th>claim_type</th>\n",
       "      <th>claim_amount</th>\n",
       "      <th>total_policy_claims</th>\n",
       "      <th>fraudulent</th>\n",
       "      <th>flag</th>\n",
       "    </tr>\n",
       "  </thead>\n",
       "  <tbody>\n",
       "    <tr>\n",
       "      <th>0</th>\n",
       "      <td>93915431</td>\n",
       "      <td>Male</td>\n",
       "      <td>1967-09-08</td>\n",
       "      <td>ME</td>\n",
       "      <td>1347851687</td>\n",
       "      <td>Gold</td>\n",
       "      <td>99775483</td>\n",
       "      <td>Other causes</td>\n",
       "      <td>2018-10-30</td>\n",
       "      <td>Auto</td>\n",
       "      <td>Material and injury</td>\n",
       "      <td>42124.5</td>\n",
       "      <td>1.0</td>\n",
       "      <td>Yes</td>\n",
       "      <td>0.0</td>\n",
       "    </tr>\n",
       "    <tr>\n",
       "      <th>1</th>\n",
       "      <td>38011078</td>\n",
       "      <td>Female</td>\n",
       "      <td>1976-05-20</td>\n",
       "      <td>NE</td>\n",
       "      <td>2711231475</td>\n",
       "      <td>Gold</td>\n",
       "      <td>98795403</td>\n",
       "      <td>Crime</td>\n",
       "      <td>2018-10-30</td>\n",
       "      <td>Auto</td>\n",
       "      <td>Material only</td>\n",
       "      <td>1940.0</td>\n",
       "      <td>1.0</td>\n",
       "      <td>No</td>\n",
       "      <td>NaN</td>\n",
       "    </tr>\n",
       "  </tbody>\n",
       "</table>\n",
       "</div>"
      ],
      "text/plain": [
       "    CUST_ID  gender DateOfBirth State     Contact Segment  claim_id  \\\n",
       "0  93915431    Male  1967-09-08    ME  1347851687    Gold  99775483   \n",
       "1  38011078  Female  1976-05-20    NE  2711231475    Gold  98795403   \n",
       "\n",
       "  incident_cause claim_date claim_area           claim_type  claim_amount  \\\n",
       "0   Other causes 2018-10-30       Auto  Material and injury       42124.5   \n",
       "1          Crime 2018-10-30       Auto        Material only        1940.0   \n",
       "\n",
       "   total_policy_claims fraudulent  flag  \n",
       "0                  1.0        Yes   0.0  \n",
       "1                  1.0         No   NaN  "
      ]
     },
     "execution_count": 23,
     "metadata": {},
     "output_type": "execute_result"
    }
   ],
   "source": [
    "df.head(2)"
   ]
  },
  {
   "cell_type": "code",
   "execution_count": 24,
   "metadata": {},
   "outputs": [],
   "source": [
    "df=df[~df.CUST_ID.duplicated()]"
   ]
  },
  {
   "cell_type": "code",
   "execution_count": 25,
   "metadata": {},
   "outputs": [
    {
     "data": {
      "text/html": [
       "<div>\n",
       "<style scoped>\n",
       "    .dataframe tbody tr th:only-of-type {\n",
       "        vertical-align: middle;\n",
       "    }\n",
       "\n",
       "    .dataframe tbody tr th {\n",
       "        vertical-align: top;\n",
       "    }\n",
       "\n",
       "    .dataframe thead th {\n",
       "        text-align: right;\n",
       "    }\n",
       "</style>\n",
       "<table border=\"1\" class=\"dataframe\">\n",
       "  <thead>\n",
       "    <tr style=\"text-align: right;\">\n",
       "      <th></th>\n",
       "      <th>CUST_ID</th>\n",
       "      <th>gender</th>\n",
       "      <th>DateOfBirth</th>\n",
       "      <th>State</th>\n",
       "      <th>Contact</th>\n",
       "      <th>Segment</th>\n",
       "      <th>claim_id</th>\n",
       "      <th>incident_cause</th>\n",
       "      <th>claim_date</th>\n",
       "      <th>claim_area</th>\n",
       "      <th>claim_type</th>\n",
       "      <th>claim_amount</th>\n",
       "      <th>total_policy_claims</th>\n",
       "      <th>fraudulent</th>\n",
       "      <th>flag</th>\n",
       "    </tr>\n",
       "  </thead>\n",
       "  <tbody>\n",
       "    <tr>\n",
       "      <th>206</th>\n",
       "      <td>85357756</td>\n",
       "      <td>Male</td>\n",
       "      <td>1970-01-02</td>\n",
       "      <td>PA</td>\n",
       "      <td>9156983649</td>\n",
       "      <td>Platinum</td>\n",
       "      <td>1654201</td>\n",
       "      <td>Driver error</td>\n",
       "      <td>2018-06-23</td>\n",
       "      <td>Auto</td>\n",
       "      <td>Material only</td>\n",
       "      <td>2510.0</td>\n",
       "      <td>1.0</td>\n",
       "      <td>No</td>\n",
       "      <td>NaN</td>\n",
       "    </tr>\n",
       "  </tbody>\n",
       "</table>\n",
       "</div>"
      ],
      "text/plain": [
       "      CUST_ID gender DateOfBirth State     Contact   Segment  claim_id  \\\n",
       "206  85357756   Male  1970-01-02    PA  9156983649  Platinum   1654201   \n",
       "\n",
       "    incident_cause claim_date claim_area     claim_type  claim_amount  \\\n",
       "206   Driver error 2018-06-23       Auto  Material only        2510.0   \n",
       "\n",
       "     total_policy_claims fraudulent  flag  \n",
       "206                  1.0         No   NaN  "
      ]
     },
     "execution_count": 25,
     "metadata": {},
     "output_type": "execute_result"
    }
   ],
   "source": [
    "df.loc[df[\"CUST_ID\"]==85357756]"
   ]
  },
  {
   "cell_type": "code",
   "execution_count": 26,
   "metadata": {},
   "outputs": [
    {
     "data": {
      "text/plain": [
       "(1078, 15)"
      ]
     },
     "execution_count": 26,
     "metadata": {},
     "output_type": "execute_result"
    }
   ],
   "source": [
    "df.shape"
   ]
  },
  {
   "cell_type": "markdown",
   "metadata": {},
   "source": [
    "6. Check for missing values and impute the missing values with an\n",
    "appropriate value. (mean for continuous and mode for categorical)"
   ]
  },
  {
   "cell_type": "code",
   "execution_count": 27,
   "metadata": {},
   "outputs": [],
   "source": [
    "df.Contact=df.Contact.astype(object)\n",
    "df.claim_id=df.claim_id.astype(object)"
   ]
  },
  {
   "cell_type": "code",
   "execution_count": 28,
   "metadata": {},
   "outputs": [],
   "source": [
    "num = df.select_dtypes(include=[np.number])\n",
    "cat = df.select_dtypes(exclude=[np.number])"
   ]
  },
  {
   "cell_type": "code",
   "execution_count": 29,
   "metadata": {},
   "outputs": [
    {
     "data": {
      "text/plain": [
       "claim_amount           float32\n",
       "total_policy_claims    float64\n",
       "flag                   float64\n",
       "dtype: object"
      ]
     },
     "execution_count": 29,
     "metadata": {},
     "output_type": "execute_result"
    }
   ],
   "source": [
    "num.head()\n",
    "num.dtypes"
   ]
  },
  {
   "cell_type": "code",
   "execution_count": 30,
   "metadata": {},
   "outputs": [
    {
     "data": {
      "text/html": [
       "<div>\n",
       "<style scoped>\n",
       "    .dataframe tbody tr th:only-of-type {\n",
       "        vertical-align: middle;\n",
       "    }\n",
       "\n",
       "    .dataframe tbody tr th {\n",
       "        vertical-align: top;\n",
       "    }\n",
       "\n",
       "    .dataframe thead th {\n",
       "        text-align: right;\n",
       "    }\n",
       "</style>\n",
       "<table border=\"1\" class=\"dataframe\">\n",
       "  <thead>\n",
       "    <tr style=\"text-align: right;\">\n",
       "      <th></th>\n",
       "      <th>CUST_ID</th>\n",
       "      <th>gender</th>\n",
       "      <th>DateOfBirth</th>\n",
       "      <th>State</th>\n",
       "      <th>Contact</th>\n",
       "      <th>Segment</th>\n",
       "      <th>claim_id</th>\n",
       "      <th>incident_cause</th>\n",
       "      <th>claim_date</th>\n",
       "      <th>claim_area</th>\n",
       "      <th>claim_type</th>\n",
       "      <th>fraudulent</th>\n",
       "    </tr>\n",
       "  </thead>\n",
       "  <tbody>\n",
       "    <tr>\n",
       "      <th>0</th>\n",
       "      <td>93915431</td>\n",
       "      <td>Male</td>\n",
       "      <td>1967-09-08</td>\n",
       "      <td>ME</td>\n",
       "      <td>1347851687</td>\n",
       "      <td>Gold</td>\n",
       "      <td>99775483</td>\n",
       "      <td>Other causes</td>\n",
       "      <td>2018-10-30</td>\n",
       "      <td>Auto</td>\n",
       "      <td>Material and injury</td>\n",
       "      <td>Yes</td>\n",
       "    </tr>\n",
       "    <tr>\n",
       "      <th>1</th>\n",
       "      <td>38011078</td>\n",
       "      <td>Female</td>\n",
       "      <td>1976-05-20</td>\n",
       "      <td>NE</td>\n",
       "      <td>2711231475</td>\n",
       "      <td>Gold</td>\n",
       "      <td>98795403</td>\n",
       "      <td>Crime</td>\n",
       "      <td>2018-10-30</td>\n",
       "      <td>Auto</td>\n",
       "      <td>Material only</td>\n",
       "      <td>No</td>\n",
       "    </tr>\n",
       "    <tr>\n",
       "      <th>2</th>\n",
       "      <td>58451506</td>\n",
       "      <td>Male</td>\n",
       "      <td>1968-04-22</td>\n",
       "      <td>FL</td>\n",
       "      <td>6735747823</td>\n",
       "      <td>Gold</td>\n",
       "      <td>43042986</td>\n",
       "      <td>Natural causes</td>\n",
       "      <td>2018-10-30</td>\n",
       "      <td>Auto</td>\n",
       "      <td>Material only</td>\n",
       "      <td>No</td>\n",
       "    </tr>\n",
       "    <tr>\n",
       "      <th>3</th>\n",
       "      <td>46710738</td>\n",
       "      <td>Male</td>\n",
       "      <td>1977-04-28</td>\n",
       "      <td>MO</td>\n",
       "      <td>9628349361</td>\n",
       "      <td>Gold</td>\n",
       "      <td>74761374</td>\n",
       "      <td>Driver error</td>\n",
       "      <td>2018-10-30</td>\n",
       "      <td>Auto</td>\n",
       "      <td>Material only</td>\n",
       "      <td>No</td>\n",
       "    </tr>\n",
       "    <tr>\n",
       "      <th>4</th>\n",
       "      <td>77510822</td>\n",
       "      <td>Female</td>\n",
       "      <td>1986-03-18</td>\n",
       "      <td>AK</td>\n",
       "      <td>4369347156</td>\n",
       "      <td>Silver</td>\n",
       "      <td>87329176</td>\n",
       "      <td>Other driver error</td>\n",
       "      <td>2018-10-30</td>\n",
       "      <td>Auto</td>\n",
       "      <td>Material only</td>\n",
       "      <td>No</td>\n",
       "    </tr>\n",
       "  </tbody>\n",
       "</table>\n",
       "</div>"
      ],
      "text/plain": [
       "    CUST_ID  gender DateOfBirth State     Contact Segment  claim_id  \\\n",
       "0  93915431    Male  1967-09-08    ME  1347851687    Gold  99775483   \n",
       "1  38011078  Female  1976-05-20    NE  2711231475    Gold  98795403   \n",
       "2  58451506    Male  1968-04-22    FL  6735747823    Gold  43042986   \n",
       "3  46710738    Male  1977-04-28    MO  9628349361    Gold  74761374   \n",
       "4  77510822  Female  1986-03-18    AK  4369347156  Silver  87329176   \n",
       "\n",
       "       incident_cause claim_date claim_area           claim_type fraudulent  \n",
       "0        Other causes 2018-10-30       Auto  Material and injury        Yes  \n",
       "1               Crime 2018-10-30       Auto        Material only         No  \n",
       "2      Natural causes 2018-10-30       Auto        Material only         No  \n",
       "3        Driver error 2018-10-30       Auto        Material only         No  \n",
       "4  Other driver error 2018-10-30       Auto        Material only         No  "
      ]
     },
     "execution_count": 30,
     "metadata": {},
     "output_type": "execute_result"
    }
   ],
   "source": [
    "cat.head()"
   ]
  },
  {
   "cell_type": "code",
   "execution_count": 31,
   "metadata": {
    "scrolled": true
   },
   "outputs": [
    {
     "data": {
      "text/plain": [
       "CUST_ID           0\n",
       "gender            0\n",
       "DateOfBirth       0\n",
       "State             0\n",
       "Contact           0\n",
       "Segment           0\n",
       "claim_id          0\n",
       "incident_cause    0\n",
       "claim_date        0\n",
       "claim_area        0\n",
       "claim_type        0\n",
       "fraudulent        0\n",
       "dtype: int64"
      ]
     },
     "execution_count": 31,
     "metadata": {},
     "output_type": "execute_result"
    }
   ],
   "source": [
    "cat.isnull().sum()"
   ]
  },
  {
   "cell_type": "code",
   "execution_count": 32,
   "metadata": {},
   "outputs": [],
   "source": [
    "num=num.drop(\"flag\",axis=1)"
   ]
  },
  {
   "cell_type": "code",
   "execution_count": 33,
   "metadata": {
    "scrolled": true
   },
   "outputs": [
    {
     "data": {
      "text/plain": [
       "claim_amount           65\n",
       "total_policy_claims    10\n",
       "dtype: int64"
      ]
     },
     "execution_count": 33,
     "metadata": {},
     "output_type": "execute_result"
    }
   ],
   "source": [
    "num.isnull().sum()"
   ]
  },
  {
   "cell_type": "code",
   "execution_count": 34,
   "metadata": {},
   "outputs": [],
   "source": [
    "for col in num:\n",
    "    df[col]=df[col].fillna(df[col].mean())"
   ]
  },
  {
   "cell_type": "code",
   "execution_count": 35,
   "metadata": {},
   "outputs": [
    {
     "data": {
      "text/plain": [
       "CUST_ID                  0\n",
       "gender                   0\n",
       "DateOfBirth              0\n",
       "State                    0\n",
       "Contact                  0\n",
       "Segment                  0\n",
       "claim_id                 0\n",
       "incident_cause           0\n",
       "claim_date               0\n",
       "claim_area               0\n",
       "claim_type               0\n",
       "claim_amount             0\n",
       "total_policy_claims      0\n",
       "fraudulent               0\n",
       "flag                   294\n",
       "dtype: int64"
      ]
     },
     "execution_count": 35,
     "metadata": {},
     "output_type": "execute_result"
    }
   ],
   "source": [
    "df.isnull().sum()"
   ]
  },
  {
   "cell_type": "code",
   "execution_count": 36,
   "metadata": {},
   "outputs": [
    {
     "data": {
      "text/plain": [
       "0.0"
      ]
     },
     "execution_count": 36,
     "metadata": {},
     "output_type": "execute_result"
    }
   ],
   "source": [
    "df.flag.mode()[0]"
   ]
  },
  {
   "cell_type": "code",
   "execution_count": 37,
   "metadata": {},
   "outputs": [],
   "source": [
    "df[\"flag\"]=df[\"flag\"].fillna(df[\"flag\"].mode())"
   ]
  },
  {
   "cell_type": "code",
   "execution_count": 38,
   "metadata": {},
   "outputs": [
    {
     "data": {
      "text/plain": [
       "294"
      ]
     },
     "execution_count": 38,
     "metadata": {},
     "output_type": "execute_result"
    }
   ],
   "source": [
    "df.flag.isnull().sum()"
   ]
  },
  {
   "cell_type": "markdown",
   "metadata": {},
   "source": [
    "7. Calculate the age of customers in years. Based on the age, categorize the\n",
    "customers according to the below criteria\n",
    "Children < 18\n",
    "Youth 18-30\n",
    "Adult 30-60\n",
    "Senior > 60\n"
   ]
  },
  {
   "cell_type": "code",
   "execution_count": 39,
   "metadata": {},
   "outputs": [],
   "source": [
    "df[\"Age\"]=round((df[\"claim_date\"]-df[\"DateOfBirth\"]).apply(lambda x:x.days)/365.25,1)"
   ]
  },
  {
   "cell_type": "code",
   "execution_count": 40,
   "metadata": {},
   "outputs": [],
   "source": [
    "from numpy import where as iff\n",
    "df[\"Age_grp\"] = iff(df.Age < 18, \"Children\",\n",
    "                        iff(df.Age < 30, \"Youth\",\n",
    "                         iff(df.Age < 60, \"Adult\",\n",
    "                          iff(df.Age < 100, \"Senior\", \"NaN\"\n",
    "                           \n",
    "                          )\n",
    "                         )\n",
    "                        )\n",
    "                       )"
   ]
  },
  {
   "cell_type": "code",
   "execution_count": 41,
   "metadata": {},
   "outputs": [
    {
     "data": {
      "text/html": [
       "<div>\n",
       "<style scoped>\n",
       "    .dataframe tbody tr th:only-of-type {\n",
       "        vertical-align: middle;\n",
       "    }\n",
       "\n",
       "    .dataframe tbody tr th {\n",
       "        vertical-align: top;\n",
       "    }\n",
       "\n",
       "    .dataframe thead th {\n",
       "        text-align: right;\n",
       "    }\n",
       "</style>\n",
       "<table border=\"1\" class=\"dataframe\">\n",
       "  <thead>\n",
       "    <tr style=\"text-align: right;\">\n",
       "      <th></th>\n",
       "      <th>CUST_ID</th>\n",
       "      <th>gender</th>\n",
       "      <th>DateOfBirth</th>\n",
       "      <th>State</th>\n",
       "      <th>Contact</th>\n",
       "      <th>Segment</th>\n",
       "      <th>claim_id</th>\n",
       "      <th>incident_cause</th>\n",
       "      <th>claim_date</th>\n",
       "      <th>claim_area</th>\n",
       "      <th>claim_type</th>\n",
       "      <th>claim_amount</th>\n",
       "      <th>total_policy_claims</th>\n",
       "      <th>fraudulent</th>\n",
       "      <th>flag</th>\n",
       "      <th>Age</th>\n",
       "      <th>Age_grp</th>\n",
       "    </tr>\n",
       "  </thead>\n",
       "  <tbody>\n",
       "    <tr>\n",
       "      <th>0</th>\n",
       "      <td>93915431</td>\n",
       "      <td>Male</td>\n",
       "      <td>1967-09-08</td>\n",
       "      <td>ME</td>\n",
       "      <td>1347851687</td>\n",
       "      <td>Gold</td>\n",
       "      <td>99775483</td>\n",
       "      <td>Other causes</td>\n",
       "      <td>2018-10-30</td>\n",
       "      <td>Auto</td>\n",
       "      <td>Material and injury</td>\n",
       "      <td>42124.500000</td>\n",
       "      <td>1.0</td>\n",
       "      <td>Yes</td>\n",
       "      <td>0.0</td>\n",
       "      <td>51.1</td>\n",
       "      <td>Adult</td>\n",
       "    </tr>\n",
       "    <tr>\n",
       "      <th>1</th>\n",
       "      <td>38011078</td>\n",
       "      <td>Female</td>\n",
       "      <td>1976-05-20</td>\n",
       "      <td>NE</td>\n",
       "      <td>2711231475</td>\n",
       "      <td>Gold</td>\n",
       "      <td>98795403</td>\n",
       "      <td>Crime</td>\n",
       "      <td>2018-10-30</td>\n",
       "      <td>Auto</td>\n",
       "      <td>Material only</td>\n",
       "      <td>1940.000000</td>\n",
       "      <td>1.0</td>\n",
       "      <td>No</td>\n",
       "      <td>NaN</td>\n",
       "      <td>42.4</td>\n",
       "      <td>Adult</td>\n",
       "    </tr>\n",
       "    <tr>\n",
       "      <th>2</th>\n",
       "      <td>58451506</td>\n",
       "      <td>Male</td>\n",
       "      <td>1968-04-22</td>\n",
       "      <td>FL</td>\n",
       "      <td>6735747823</td>\n",
       "      <td>Gold</td>\n",
       "      <td>43042986</td>\n",
       "      <td>Natural causes</td>\n",
       "      <td>2018-10-30</td>\n",
       "      <td>Auto</td>\n",
       "      <td>Material only</td>\n",
       "      <td>2420.000000</td>\n",
       "      <td>1.0</td>\n",
       "      <td>No</td>\n",
       "      <td>0.0</td>\n",
       "      <td>50.5</td>\n",
       "      <td>Adult</td>\n",
       "    </tr>\n",
       "    <tr>\n",
       "      <th>3</th>\n",
       "      <td>46710738</td>\n",
       "      <td>Male</td>\n",
       "      <td>1977-04-28</td>\n",
       "      <td>MO</td>\n",
       "      <td>9628349361</td>\n",
       "      <td>Gold</td>\n",
       "      <td>74761374</td>\n",
       "      <td>Driver error</td>\n",
       "      <td>2018-10-30</td>\n",
       "      <td>Auto</td>\n",
       "      <td>Material only</td>\n",
       "      <td>1830.000000</td>\n",
       "      <td>1.0</td>\n",
       "      <td>No</td>\n",
       "      <td>0.0</td>\n",
       "      <td>41.5</td>\n",
       "      <td>Adult</td>\n",
       "    </tr>\n",
       "    <tr>\n",
       "      <th>4</th>\n",
       "      <td>77510822</td>\n",
       "      <td>Female</td>\n",
       "      <td>1986-03-18</td>\n",
       "      <td>AK</td>\n",
       "      <td>4369347156</td>\n",
       "      <td>Silver</td>\n",
       "      <td>87329176</td>\n",
       "      <td>Other driver error</td>\n",
       "      <td>2018-10-30</td>\n",
       "      <td>Auto</td>\n",
       "      <td>Material only</td>\n",
       "      <td>12501.730469</td>\n",
       "      <td>2.0</td>\n",
       "      <td>No</td>\n",
       "      <td>NaN</td>\n",
       "      <td>32.6</td>\n",
       "      <td>Adult</td>\n",
       "    </tr>\n",
       "  </tbody>\n",
       "</table>\n",
       "</div>"
      ],
      "text/plain": [
       "    CUST_ID  gender DateOfBirth State     Contact Segment  claim_id  \\\n",
       "0  93915431    Male  1967-09-08    ME  1347851687    Gold  99775483   \n",
       "1  38011078  Female  1976-05-20    NE  2711231475    Gold  98795403   \n",
       "2  58451506    Male  1968-04-22    FL  6735747823    Gold  43042986   \n",
       "3  46710738    Male  1977-04-28    MO  9628349361    Gold  74761374   \n",
       "4  77510822  Female  1986-03-18    AK  4369347156  Silver  87329176   \n",
       "\n",
       "       incident_cause claim_date claim_area           claim_type  \\\n",
       "0        Other causes 2018-10-30       Auto  Material and injury   \n",
       "1               Crime 2018-10-30       Auto        Material only   \n",
       "2      Natural causes 2018-10-30       Auto        Material only   \n",
       "3        Driver error 2018-10-30       Auto        Material only   \n",
       "4  Other driver error 2018-10-30       Auto        Material only   \n",
       "\n",
       "   claim_amount  total_policy_claims fraudulent  flag   Age Age_grp  \n",
       "0  42124.500000                  1.0        Yes   0.0  51.1   Adult  \n",
       "1   1940.000000                  1.0         No   NaN  42.4   Adult  \n",
       "2   2420.000000                  1.0         No   0.0  50.5   Adult  \n",
       "3   1830.000000                  1.0         No   0.0  41.5   Adult  \n",
       "4  12501.730469                  2.0         No   NaN  32.6   Adult  "
      ]
     },
     "execution_count": 41,
     "metadata": {},
     "output_type": "execute_result"
    }
   ],
   "source": [
    "df.head()"
   ]
  },
  {
   "cell_type": "code",
   "execution_count": 42,
   "metadata": {},
   "outputs": [
    {
     "data": {
      "text/plain": [
       "'Adult'"
      ]
     },
     "execution_count": 42,
     "metadata": {},
     "output_type": "execute_result"
    }
   ],
   "source": [
    "df.Age_grp.mode()[0]"
   ]
  },
  {
   "cell_type": "code",
   "execution_count": 43,
   "metadata": {},
   "outputs": [
    {
     "data": {
      "text/plain": [
       "0"
      ]
     },
     "execution_count": 43,
     "metadata": {},
     "output_type": "execute_result"
    }
   ],
   "source": [
    "df.Age_grp.isnull().sum()"
   ]
  },
  {
   "cell_type": "markdown",
   "metadata": {},
   "source": [
    "8. What is the average amount claimed by the customers from various\n",
    "segments?"
   ]
  },
  {
   "cell_type": "code",
   "execution_count": 44,
   "metadata": {},
   "outputs": [
    {
     "data": {
      "text/plain": [
       "Segment\n",
       "Gold        12846.0\n",
       "Platinum    12372.0\n",
       "Silver      12268.0\n",
       "Name: claim_amount, dtype: float32"
      ]
     },
     "execution_count": 44,
     "metadata": {},
     "output_type": "execute_result"
    }
   ],
   "source": [
    "df.groupby([\"Segment\"])[\"claim_amount\"].mean().round()"
   ]
  },
  {
   "cell_type": "markdown",
   "metadata": {},
   "source": [
    "9. What is the total claim amount based on incident cause for all the claims\n",
    "that have been done at least 20 days prior to 1st of October, 2018."
   ]
  },
  {
   "cell_type": "code",
   "execution_count": 45,
   "metadata": {},
   "outputs": [
    {
     "data": {
      "text/html": [
       "<div>\n",
       "<style scoped>\n",
       "    .dataframe tbody tr th:only-of-type {\n",
       "        vertical-align: middle;\n",
       "    }\n",
       "\n",
       "    .dataframe tbody tr th {\n",
       "        vertical-align: top;\n",
       "    }\n",
       "\n",
       "    .dataframe thead th {\n",
       "        text-align: right;\n",
       "    }\n",
       "</style>\n",
       "<table border=\"1\" class=\"dataframe\">\n",
       "  <thead>\n",
       "    <tr style=\"text-align: right;\">\n",
       "      <th></th>\n",
       "      <th>CUST_ID</th>\n",
       "      <th>gender</th>\n",
       "      <th>DateOfBirth</th>\n",
       "      <th>State</th>\n",
       "      <th>Contact</th>\n",
       "      <th>Segment</th>\n",
       "      <th>claim_id</th>\n",
       "      <th>incident_cause</th>\n",
       "      <th>claim_date</th>\n",
       "      <th>claim_area</th>\n",
       "      <th>claim_type</th>\n",
       "      <th>claim_amount</th>\n",
       "      <th>total_policy_claims</th>\n",
       "      <th>fraudulent</th>\n",
       "      <th>flag</th>\n",
       "      <th>Age</th>\n",
       "      <th>Age_grp</th>\n",
       "    </tr>\n",
       "  </thead>\n",
       "  <tbody>\n",
       "    <tr>\n",
       "      <th>91</th>\n",
       "      <td>98401399</td>\n",
       "      <td>Female</td>\n",
       "      <td>1968-10-07</td>\n",
       "      <td>IA</td>\n",
       "      <td>2195931674</td>\n",
       "      <td>Silver</td>\n",
       "      <td>35136402</td>\n",
       "      <td>Natural causes</td>\n",
       "      <td>2018-09-06</td>\n",
       "      <td>Auto</td>\n",
       "      <td>Injury only</td>\n",
       "      <td>24900.0</td>\n",
       "      <td>1.0</td>\n",
       "      <td>No</td>\n",
       "      <td>NaN</td>\n",
       "      <td>49.9</td>\n",
       "      <td>Adult</td>\n",
       "    </tr>\n",
       "    <tr>\n",
       "      <th>92</th>\n",
       "      <td>76339681</td>\n",
       "      <td>Female</td>\n",
       "      <td>1990-03-08</td>\n",
       "      <td>MI</td>\n",
       "      <td>8435293256</td>\n",
       "      <td>Platinum</td>\n",
       "      <td>70575561</td>\n",
       "      <td>Crime</td>\n",
       "      <td>2018-09-06</td>\n",
       "      <td>Home</td>\n",
       "      <td>Material only</td>\n",
       "      <td>1910.0</td>\n",
       "      <td>1.0</td>\n",
       "      <td>No</td>\n",
       "      <td>NaN</td>\n",
       "      <td>28.5</td>\n",
       "      <td>Youth</td>\n",
       "    </tr>\n",
       "    <tr>\n",
       "      <th>93</th>\n",
       "      <td>75884493</td>\n",
       "      <td>Female</td>\n",
       "      <td>1969-07-27</td>\n",
       "      <td>VT</td>\n",
       "      <td>1964357259</td>\n",
       "      <td>Gold</td>\n",
       "      <td>3110549</td>\n",
       "      <td>Other driver error</td>\n",
       "      <td>2018-09-06</td>\n",
       "      <td>Auto</td>\n",
       "      <td>Material and injury</td>\n",
       "      <td>35310.0</td>\n",
       "      <td>6.0</td>\n",
       "      <td>No</td>\n",
       "      <td>1.0</td>\n",
       "      <td>49.1</td>\n",
       "      <td>Adult</td>\n",
       "    </tr>\n",
       "    <tr>\n",
       "      <th>94</th>\n",
       "      <td>7612094</td>\n",
       "      <td>Male</td>\n",
       "      <td>1983-08-26</td>\n",
       "      <td>UT</td>\n",
       "      <td>1457344176</td>\n",
       "      <td>Gold</td>\n",
       "      <td>75623323</td>\n",
       "      <td>Natural causes</td>\n",
       "      <td>2018-09-06</td>\n",
       "      <td>Auto</td>\n",
       "      <td>Material only</td>\n",
       "      <td>2771.5</td>\n",
       "      <td>1.0</td>\n",
       "      <td>Yes</td>\n",
       "      <td>0.0</td>\n",
       "      <td>35.0</td>\n",
       "      <td>Adult</td>\n",
       "    </tr>\n",
       "    <tr>\n",
       "      <th>95</th>\n",
       "      <td>39959491</td>\n",
       "      <td>Female</td>\n",
       "      <td>1995-04-07</td>\n",
       "      <td>DE</td>\n",
       "      <td>1397425417</td>\n",
       "      <td>Silver</td>\n",
       "      <td>54642809</td>\n",
       "      <td>Driver error</td>\n",
       "      <td>2018-09-06</td>\n",
       "      <td>Auto</td>\n",
       "      <td>Material only</td>\n",
       "      <td>2720.0</td>\n",
       "      <td>1.0</td>\n",
       "      <td>No</td>\n",
       "      <td>NaN</td>\n",
       "      <td>23.4</td>\n",
       "      <td>Youth</td>\n",
       "    </tr>\n",
       "    <tr>\n",
       "      <th>...</th>\n",
       "      <td>...</td>\n",
       "      <td>...</td>\n",
       "      <td>...</td>\n",
       "      <td>...</td>\n",
       "      <td>...</td>\n",
       "      <td>...</td>\n",
       "      <td>...</td>\n",
       "      <td>...</td>\n",
       "      <td>...</td>\n",
       "      <td>...</td>\n",
       "      <td>...</td>\n",
       "      <td>...</td>\n",
       "      <td>...</td>\n",
       "      <td>...</td>\n",
       "      <td>...</td>\n",
       "      <td>...</td>\n",
       "      <td>...</td>\n",
       "    </tr>\n",
       "    <tr>\n",
       "      <th>1080</th>\n",
       "      <td>77219712</td>\n",
       "      <td>Female</td>\n",
       "      <td>1999-08-05</td>\n",
       "      <td>NH</td>\n",
       "      <td>6495928793</td>\n",
       "      <td>Platinum</td>\n",
       "      <td>61374372</td>\n",
       "      <td>Other causes</td>\n",
       "      <td>2017-01-01</td>\n",
       "      <td>Auto</td>\n",
       "      <td>Material and injury</td>\n",
       "      <td>20200.0</td>\n",
       "      <td>1.0</td>\n",
       "      <td>No</td>\n",
       "      <td>0.0</td>\n",
       "      <td>17.4</td>\n",
       "      <td>Children</td>\n",
       "    </tr>\n",
       "    <tr>\n",
       "      <th>1081</th>\n",
       "      <td>42664554</td>\n",
       "      <td>Female</td>\n",
       "      <td>1993-08-13</td>\n",
       "      <td>TN</td>\n",
       "      <td>3969732531</td>\n",
       "      <td>Gold</td>\n",
       "      <td>42280334</td>\n",
       "      <td>Other causes</td>\n",
       "      <td>2017-01-01</td>\n",
       "      <td>Auto</td>\n",
       "      <td>Injury only</td>\n",
       "      <td>27670.0</td>\n",
       "      <td>1.0</td>\n",
       "      <td>No</td>\n",
       "      <td>0.0</td>\n",
       "      <td>23.4</td>\n",
       "      <td>Youth</td>\n",
       "    </tr>\n",
       "    <tr>\n",
       "      <th>1082</th>\n",
       "      <td>64840478</td>\n",
       "      <td>Female</td>\n",
       "      <td>1974-02-14</td>\n",
       "      <td>NM</td>\n",
       "      <td>9181747461</td>\n",
       "      <td>Silver</td>\n",
       "      <td>23636125</td>\n",
       "      <td>Other driver error</td>\n",
       "      <td>2017-01-01</td>\n",
       "      <td>Auto</td>\n",
       "      <td>Material and injury</td>\n",
       "      <td>17290.0</td>\n",
       "      <td>1.0</td>\n",
       "      <td>No</td>\n",
       "      <td>NaN</td>\n",
       "      <td>42.9</td>\n",
       "      <td>Adult</td>\n",
       "    </tr>\n",
       "    <tr>\n",
       "      <th>1083</th>\n",
       "      <td>74155265</td>\n",
       "      <td>Male</td>\n",
       "      <td>1985-11-16</td>\n",
       "      <td>TX</td>\n",
       "      <td>3927394873</td>\n",
       "      <td>Gold</td>\n",
       "      <td>25647821</td>\n",
       "      <td>Natural causes</td>\n",
       "      <td>2017-01-01</td>\n",
       "      <td>Auto</td>\n",
       "      <td>Material only</td>\n",
       "      <td>2080.0</td>\n",
       "      <td>1.0</td>\n",
       "      <td>No</td>\n",
       "      <td>0.0</td>\n",
       "      <td>31.1</td>\n",
       "      <td>Adult</td>\n",
       "    </tr>\n",
       "    <tr>\n",
       "      <th>1084</th>\n",
       "      <td>61745840</td>\n",
       "      <td>Female</td>\n",
       "      <td>1994-07-24</td>\n",
       "      <td>MA</td>\n",
       "      <td>6126845472</td>\n",
       "      <td>Platinum</td>\n",
       "      <td>90591192</td>\n",
       "      <td>Other driver error</td>\n",
       "      <td>2017-01-01</td>\n",
       "      <td>Home</td>\n",
       "      <td>Material and injury</td>\n",
       "      <td>30930.0</td>\n",
       "      <td>1.0</td>\n",
       "      <td>No</td>\n",
       "      <td>0.0</td>\n",
       "      <td>22.4</td>\n",
       "      <td>Youth</td>\n",
       "    </tr>\n",
       "  </tbody>\n",
       "</table>\n",
       "<p>987 rows × 17 columns</p>\n",
       "</div>"
      ],
      "text/plain": [
       "       CUST_ID  gender DateOfBirth State     Contact   Segment  claim_id  \\\n",
       "91    98401399  Female  1968-10-07    IA  2195931674    Silver  35136402   \n",
       "92    76339681  Female  1990-03-08    MI  8435293256  Platinum  70575561   \n",
       "93    75884493  Female  1969-07-27    VT  1964357259      Gold   3110549   \n",
       "94     7612094    Male  1983-08-26    UT  1457344176      Gold  75623323   \n",
       "95    39959491  Female  1995-04-07    DE  1397425417    Silver  54642809   \n",
       "...        ...     ...         ...   ...         ...       ...       ...   \n",
       "1080  77219712  Female  1999-08-05    NH  6495928793  Platinum  61374372   \n",
       "1081  42664554  Female  1993-08-13    TN  3969732531      Gold  42280334   \n",
       "1082  64840478  Female  1974-02-14    NM  9181747461    Silver  23636125   \n",
       "1083  74155265    Male  1985-11-16    TX  3927394873      Gold  25647821   \n",
       "1084  61745840  Female  1994-07-24    MA  6126845472  Platinum  90591192   \n",
       "\n",
       "          incident_cause claim_date claim_area           claim_type  \\\n",
       "91        Natural causes 2018-09-06       Auto          Injury only   \n",
       "92                 Crime 2018-09-06       Home        Material only   \n",
       "93    Other driver error 2018-09-06       Auto  Material and injury   \n",
       "94        Natural causes 2018-09-06       Auto        Material only   \n",
       "95          Driver error 2018-09-06       Auto        Material only   \n",
       "...                  ...        ...        ...                  ...   \n",
       "1080        Other causes 2017-01-01       Auto  Material and injury   \n",
       "1081        Other causes 2017-01-01       Auto          Injury only   \n",
       "1082  Other driver error 2017-01-01       Auto  Material and injury   \n",
       "1083      Natural causes 2017-01-01       Auto        Material only   \n",
       "1084  Other driver error 2017-01-01       Home  Material and injury   \n",
       "\n",
       "      claim_amount  total_policy_claims fraudulent  flag   Age   Age_grp  \n",
       "91         24900.0                  1.0         No   NaN  49.9     Adult  \n",
       "92          1910.0                  1.0         No   NaN  28.5     Youth  \n",
       "93         35310.0                  6.0         No   1.0  49.1     Adult  \n",
       "94          2771.5                  1.0        Yes   0.0  35.0     Adult  \n",
       "95          2720.0                  1.0         No   NaN  23.4     Youth  \n",
       "...            ...                  ...        ...   ...   ...       ...  \n",
       "1080       20200.0                  1.0         No   0.0  17.4  Children  \n",
       "1081       27670.0                  1.0         No   0.0  23.4     Youth  \n",
       "1082       17290.0                  1.0         No   NaN  42.9     Adult  \n",
       "1083        2080.0                  1.0         No   0.0  31.1     Adult  \n",
       "1084       30930.0                  1.0         No   0.0  22.4     Youth  \n",
       "\n",
       "[987 rows x 17 columns]"
      ]
     },
     "execution_count": 45,
     "metadata": {},
     "output_type": "execute_result"
    }
   ],
   "source": [
    "df.loc[df[\"claim_date\"]<\"2018-09-10\"]"
   ]
  },
  {
   "cell_type": "code",
   "execution_count": 46,
   "metadata": {},
   "outputs": [
    {
     "data": {
      "text/html": [
       "<div>\n",
       "<style scoped>\n",
       "    .dataframe tbody tr th:only-of-type {\n",
       "        vertical-align: middle;\n",
       "    }\n",
       "\n",
       "    .dataframe tbody tr th {\n",
       "        vertical-align: top;\n",
       "    }\n",
       "\n",
       "    .dataframe thead th {\n",
       "        text-align: right;\n",
       "    }\n",
       "</style>\n",
       "<table border=\"1\" class=\"dataframe\">\n",
       "  <thead>\n",
       "    <tr style=\"text-align: right;\">\n",
       "      <th></th>\n",
       "      <th>total_claim_amount</th>\n",
       "    </tr>\n",
       "    <tr>\n",
       "      <th>incident_cause</th>\n",
       "      <th></th>\n",
       "    </tr>\n",
       "  </thead>\n",
       "  <tbody>\n",
       "    <tr>\n",
       "      <th>Crime</th>\n",
       "      <td>721938.625</td>\n",
       "    </tr>\n",
       "    <tr>\n",
       "      <th>Driver error</th>\n",
       "      <td>3315850.750</td>\n",
       "    </tr>\n",
       "    <tr>\n",
       "      <th>Natural causes</th>\n",
       "      <td>1312987.125</td>\n",
       "    </tr>\n",
       "    <tr>\n",
       "      <th>Other causes</th>\n",
       "      <td>3723152.000</td>\n",
       "    </tr>\n",
       "    <tr>\n",
       "      <th>Other driver error</th>\n",
       "      <td>3277536.500</td>\n",
       "    </tr>\n",
       "  </tbody>\n",
       "</table>\n",
       "</div>"
      ],
      "text/plain": [
       "                    total_claim_amount\n",
       "incident_cause                        \n",
       "Crime                       721938.625\n",
       "Driver error               3315850.750\n",
       "Natural causes             1312987.125\n",
       "Other causes               3723152.000\n",
       "Other driver error         3277536.500"
      ]
     },
     "execution_count": 46,
     "metadata": {},
     "output_type": "execute_result"
    }
   ],
   "source": [
    "df.loc[df[\"claim_date\"]<\"2018-09-10\"].groupby([\"incident_cause\"])[[\"claim_amount\"]].sum().add_prefix(\"total_\")"
   ]
  },
  {
   "cell_type": "markdown",
   "metadata": {},
   "source": [
    "10. How many adults from TX, DE and AK claimed insurance for driver\n",
    "related issues and causes? "
   ]
  },
  {
   "cell_type": "code",
   "execution_count": 47,
   "metadata": {},
   "outputs": [],
   "source": [
    "df1=df.loc[(((df.State == \"TX\") | (df.State == \"DE\") | (df.State == \"AK\")) & (df.incident_cause.str.lower().str.contains(\"driver\")))]"
   ]
  },
  {
   "cell_type": "code",
   "execution_count": 48,
   "metadata": {},
   "outputs": [],
   "source": [
    "df2=df1.loc[df[\"Age_grp\"]==\"Adult\",:]"
   ]
  },
  {
   "cell_type": "code",
   "execution_count": 49,
   "metadata": {},
   "outputs": [
    {
     "data": {
      "text/html": [
       "<div>\n",
       "<style scoped>\n",
       "    .dataframe tbody tr th:only-of-type {\n",
       "        vertical-align: middle;\n",
       "    }\n",
       "\n",
       "    .dataframe tbody tr th {\n",
       "        vertical-align: top;\n",
       "    }\n",
       "\n",
       "    .dataframe thead th {\n",
       "        text-align: right;\n",
       "    }\n",
       "</style>\n",
       "<table border=\"1\" class=\"dataframe\">\n",
       "  <thead>\n",
       "    <tr style=\"text-align: right;\">\n",
       "      <th></th>\n",
       "      <th></th>\n",
       "      <th>no.adults_State</th>\n",
       "    </tr>\n",
       "    <tr>\n",
       "      <th>State</th>\n",
       "      <th>incident_cause</th>\n",
       "      <th></th>\n",
       "    </tr>\n",
       "  </thead>\n",
       "  <tbody>\n",
       "    <tr>\n",
       "      <th rowspan=\"2\" valign=\"top\">AK</th>\n",
       "      <th>Driver error</th>\n",
       "      <td>5</td>\n",
       "    </tr>\n",
       "    <tr>\n",
       "      <th>Other driver error</th>\n",
       "      <td>3</td>\n",
       "    </tr>\n",
       "    <tr>\n",
       "      <th rowspan=\"2\" valign=\"top\">DE</th>\n",
       "      <th>Driver error</th>\n",
       "      <td>4</td>\n",
       "    </tr>\n",
       "    <tr>\n",
       "      <th>Other driver error</th>\n",
       "      <td>5</td>\n",
       "    </tr>\n",
       "    <tr>\n",
       "      <th rowspan=\"2\" valign=\"top\">TX</th>\n",
       "      <th>Driver error</th>\n",
       "      <td>3</td>\n",
       "    </tr>\n",
       "    <tr>\n",
       "      <th>Other driver error</th>\n",
       "      <td>3</td>\n",
       "    </tr>\n",
       "  </tbody>\n",
       "</table>\n",
       "</div>"
      ],
      "text/plain": [
       "                          no.adults_State\n",
       "State incident_cause                     \n",
       "AK    Driver error                      5\n",
       "      Other driver error                3\n",
       "DE    Driver error                      4\n",
       "      Other driver error                5\n",
       "TX    Driver error                      3\n",
       "      Other driver error                3"
      ]
     },
     "execution_count": 49,
     "metadata": {},
     "output_type": "execute_result"
    }
   ],
   "source": [
    "df2.groupby([\"State\",\"incident_cause\"])[[\"State\"]].count().add_prefix(\"no.adults_\")"
   ]
  },
  {
   "cell_type": "markdown",
   "metadata": {},
   "source": [
    "11. Draw a pie chart between the aggregated value of claim amount based\n",
    "on gender and segment. Represent the claim amount as a percentage on\n",
    "the pie chart."
   ]
  },
  {
   "cell_type": "code",
   "execution_count": 50,
   "metadata": {},
   "outputs": [
    {
     "data": {
      "text/html": [
       "<div>\n",
       "<style scoped>\n",
       "    .dataframe tbody tr th:only-of-type {\n",
       "        vertical-align: middle;\n",
       "    }\n",
       "\n",
       "    .dataframe tbody tr th {\n",
       "        vertical-align: top;\n",
       "    }\n",
       "\n",
       "    .dataframe thead th {\n",
       "        text-align: right;\n",
       "    }\n",
       "</style>\n",
       "<table border=\"1\" class=\"dataframe\">\n",
       "  <thead>\n",
       "    <tr style=\"text-align: right;\">\n",
       "      <th>Segment</th>\n",
       "      <th>Gold</th>\n",
       "      <th>Platinum</th>\n",
       "      <th>Silver</th>\n",
       "    </tr>\n",
       "    <tr>\n",
       "      <th>gender</th>\n",
       "      <th></th>\n",
       "      <th></th>\n",
       "      <th></th>\n",
       "    </tr>\n",
       "  </thead>\n",
       "  <tbody>\n",
       "    <tr>\n",
       "      <th>Female</th>\n",
       "      <td>12339.442383</td>\n",
       "      <td>12278.352539</td>\n",
       "      <td>11641.379883</td>\n",
       "    </tr>\n",
       "    <tr>\n",
       "      <th>Male</th>\n",
       "      <td>13279.849609</td>\n",
       "      <td>12478.841797</td>\n",
       "      <td>12825.871094</td>\n",
       "    </tr>\n",
       "  </tbody>\n",
       "</table>\n",
       "</div>"
      ],
      "text/plain": [
       "Segment          Gold      Platinum        Silver\n",
       "gender                                           \n",
       "Female   12339.442383  12278.352539  11641.379883\n",
       "Male     13279.849609  12478.841797  12825.871094"
      ]
     },
     "execution_count": 50,
     "metadata": {},
     "output_type": "execute_result"
    }
   ],
   "source": [
    "df3=df.pivot_table(index=\"gender\",columns=\"Segment\",values=\"claim_amount\")\n",
    "df3"
   ]
  },
  {
   "cell_type": "code",
   "execution_count": 51,
   "metadata": {},
   "outputs": [
    {
     "data": {
      "image/png": "[encoded data removed]",
      "text/plain": [
       "<Figure size 864x432 with 3 Axes>"
      ]
     },
     "metadata": {},
     "output_type": "display_data"
    }
   ],
   "source": [
    "import matplotlib.pyplot as plt\n",
    "df3.plot(kind = \"pie\", subplots = True, autopct=\"%1.1f%%\",legend = False, figsize = (12,6))\n",
    "plt.show()"
   ]
  },
  {
   "cell_type": "markdown",
   "metadata": {},
   "source": [
    "12. Among males and females, which gender had claimed the most for any\n",
    "type of driver related issues? E.g. This metric can be compared using a\n",
    "bar chart"
   ]
  },
  {
   "cell_type": "code",
   "execution_count": 52,
   "metadata": {},
   "outputs": [
    {
     "data": {
      "text/html": [
       "<div>\n",
       "<style scoped>\n",
       "    .dataframe tbody tr th:only-of-type {\n",
       "        vertical-align: middle;\n",
       "    }\n",
       "\n",
       "    .dataframe tbody tr th {\n",
       "        vertical-align: top;\n",
       "    }\n",
       "\n",
       "    .dataframe thead th {\n",
       "        text-align: right;\n",
       "    }\n",
       "</style>\n",
       "<table border=\"1\" class=\"dataframe\">\n",
       "  <thead>\n",
       "    <tr style=\"text-align: right;\">\n",
       "      <th></th>\n",
       "      <th>gender</th>\n",
       "      <th>CountOf_gender</th>\n",
       "    </tr>\n",
       "  </thead>\n",
       "  <tbody>\n",
       "    <tr>\n",
       "      <th>0</th>\n",
       "      <td>Female</td>\n",
       "      <td>221</td>\n",
       "    </tr>\n",
       "    <tr>\n",
       "      <th>1</th>\n",
       "      <td>Male</td>\n",
       "      <td>281</td>\n",
       "    </tr>\n",
       "  </tbody>\n",
       "</table>\n",
       "</div>"
      ],
      "text/plain": [
       "   gender  CountOf_gender\n",
       "0  Female             221\n",
       "1    Male             281"
      ]
     },
     "execution_count": 52,
     "metadata": {},
     "output_type": "execute_result"
    }
   ],
   "source": [
    "df4=df.loc[df.incident_cause.str.lower().str.contains(\"driver\"),:].groupby(\"gender\")[[\"gender\"]].count().add_prefix(\"CountOf_\").reset_index()\n",
    "df4"
   ]
  },
  {
   "cell_type": "code",
   "execution_count": 53,
   "metadata": {},
   "outputs": [
    {
     "data": {
      "image/png": "[encoded data removed]",
      "text/plain": [
       "<Figure size 432x288 with 1 Axes>"
      ]
     },
     "metadata": {
      "needs_background": "light"
     },
     "output_type": "display_data"
    }
   ],
   "source": [
    "import seaborn as sns\n",
    "sns.barplot(x = \"gender\", y = \"CountOf_gender\", data = df4 )\n",
    "plt.show()"
   ]
  },
  {
   "cell_type": "markdown",
   "metadata": {},
   "source": [
    "13. Which age group had the maximum fraudulent policy claims? Visualize\n",
    "it on a bar chart."
   ]
  },
  {
   "cell_type": "code",
   "execution_count": 54,
   "metadata": {},
   "outputs": [
    {
     "data": {
      "text/html": [
       "<div>\n",
       "<style scoped>\n",
       "    .dataframe tbody tr th:only-of-type {\n",
       "        vertical-align: middle;\n",
       "    }\n",
       "\n",
       "    .dataframe tbody tr th {\n",
       "        vertical-align: top;\n",
       "    }\n",
       "\n",
       "    .dataframe thead th {\n",
       "        text-align: right;\n",
       "    }\n",
       "</style>\n",
       "<table border=\"1\" class=\"dataframe\">\n",
       "  <thead>\n",
       "    <tr style=\"text-align: right;\">\n",
       "      <th></th>\n",
       "      <th>count of Age_grp</th>\n",
       "    </tr>\n",
       "    <tr>\n",
       "      <th>Age_grp</th>\n",
       "      <th></th>\n",
       "    </tr>\n",
       "  </thead>\n",
       "  <tbody>\n",
       "    <tr>\n",
       "      <th>Adult</th>\n",
       "      <td>171</td>\n",
       "    </tr>\n",
       "    <tr>\n",
       "      <th>Children</th>\n",
       "      <td>1</td>\n",
       "    </tr>\n",
       "    <tr>\n",
       "      <th>Youth</th>\n",
       "      <td>73</td>\n",
       "    </tr>\n",
       "  </tbody>\n",
       "</table>\n",
       "</div>"
      ],
      "text/plain": [
       "          count of Age_grp\n",
       "Age_grp                   \n",
       "Adult                  171\n",
       "Children                 1\n",
       "Youth                   73"
      ]
     },
     "execution_count": 54,
     "metadata": {},
     "output_type": "execute_result"
    }
   ],
   "source": [
    "fc=df.loc[df[\"fraudulent\"]==\"Yes\"]\n",
    "fc1=fc.groupby(\"Age_grp\")[[\"Age_grp\"]].count().add_prefix(\"count of \")\n",
    "fc1"
   ]
  },
  {
   "cell_type": "code",
   "execution_count": 59,
   "metadata": {},
   "outputs": [
    {
     "data": {
      "image/png": "[encoded data removed]",
      "text/plain": [
       "<Figure size 432x288 with 1 Axes>"
      ]
     },
     "metadata": {
      "needs_background": "light"
     },
     "output_type": "display_data"
    }
   ],
   "source": [
    "fc1.plot(kind=\"bar\")\n",
    "plt.show()"
   ]
  },
  {
   "cell_type": "code",
   "execution_count": 60,
   "metadata": {},
   "outputs": [
    {
     "data": {
      "image/png": "[encoded data removed]",
      "text/plain": [
       "<Figure size 432x288 with 1 Axes>"
      ]
     },
     "metadata": {
      "needs_background": "light"
     },
     "output_type": "display_data"
    }
   ],
   "source": [
    "sns.barplot(x = fc1.index, y = \"count of Age_grp\", data = fc1 )\n",
    "plt.show()"
   ]
  },
  {
   "cell_type": "markdown",
   "metadata": {},
   "source": [
    "14. Visualize the monthly trend of the total amount that has been claimed\n",
    "by the customers. Ensure that on the “month” axis, the month is in a\n",
    "chronological order not alphabetical order. "
   ]
  },
  {
   "cell_type": "code",
   "execution_count": 57,
   "metadata": {},
   "outputs": [],
   "source": [
    "df[\"mnthly\"]=df[\"claim_date\"].apply(lambda x:pd.Timestamp.strftime(x,format=\"%B\"))\n",
    "df[\"yearly\"]=df[\"claim_date\"].apply(lambda x:pd.Timestamp.strftime(x,format=\"%Y\"))"
   ]
  },
  {
   "cell_type": "code",
   "execution_count": 58,
   "metadata": {},
   "outputs": [
    {
     "data": {
      "text/plain": [
       "dtype('O')"
      ]
     },
     "execution_count": 58,
     "metadata": {},
     "output_type": "execute_result"
    }
   ],
   "source": [
    "df[\"mnthly\"].dtypes"
   ]
  },
  {
   "cell_type": "code",
   "execution_count": 172,
   "metadata": {},
   "outputs": [
    {
     "data": {
      "text/html": [
       "<div>\n",
       "<style scoped>\n",
       "    .dataframe tbody tr th:only-of-type {\n",
       "        vertical-align: middle;\n",
       "    }\n",
       "\n",
       "    .dataframe tbody tr th {\n",
       "        vertical-align: top;\n",
       "    }\n",
       "\n",
       "    .dataframe thead th {\n",
       "        text-align: right;\n",
       "    }\n",
       "</style>\n",
       "<table border=\"1\" class=\"dataframe\">\n",
       "  <thead>\n",
       "    <tr style=\"text-align: right;\">\n",
       "      <th></th>\n",
       "      <th>mnthly</th>\n",
       "      <th>yearly</th>\n",
       "      <th>claim_amount</th>\n",
       "    </tr>\n",
       "  </thead>\n",
       "  <tbody>\n",
       "    <tr>\n",
       "      <th>0</th>\n",
       "      <td>April</td>\n",
       "      <td>2017</td>\n",
       "      <td>747975.75000</td>\n",
       "    </tr>\n",
       "    <tr>\n",
       "      <th>1</th>\n",
       "      <td>April</td>\n",
       "      <td>2018</td>\n",
       "      <td>544538.25000</td>\n",
       "    </tr>\n",
       "    <tr>\n",
       "      <th>2</th>\n",
       "      <td>August</td>\n",
       "      <td>2017</td>\n",
       "      <td>431616.46875</td>\n",
       "    </tr>\n",
       "    <tr>\n",
       "      <th>3</th>\n",
       "      <td>August</td>\n",
       "      <td>2018</td>\n",
       "      <td>479680.71875</td>\n",
       "    </tr>\n",
       "    <tr>\n",
       "      <th>4</th>\n",
       "      <td>December</td>\n",
       "      <td>2017</td>\n",
       "      <td>694252.75000</td>\n",
       "    </tr>\n",
       "    <tr>\n",
       "      <th>5</th>\n",
       "      <td>February</td>\n",
       "      <td>2017</td>\n",
       "      <td>631456.43750</td>\n",
       "    </tr>\n",
       "    <tr>\n",
       "      <th>6</th>\n",
       "      <td>February</td>\n",
       "      <td>2018</td>\n",
       "      <td>533085.93750</td>\n",
       "    </tr>\n",
       "    <tr>\n",
       "      <th>7</th>\n",
       "      <td>January</td>\n",
       "      <td>2017</td>\n",
       "      <td>608016.18750</td>\n",
       "    </tr>\n",
       "    <tr>\n",
       "      <th>8</th>\n",
       "      <td>January</td>\n",
       "      <td>2018</td>\n",
       "      <td>719154.43750</td>\n",
       "    </tr>\n",
       "    <tr>\n",
       "      <th>10</th>\n",
       "      <td>July</td>\n",
       "      <td>2018</td>\n",
       "      <td>588447.12500</td>\n",
       "    </tr>\n",
       "    <tr>\n",
       "      <th>9</th>\n",
       "      <td>July</td>\n",
       "      <td>2017</td>\n",
       "      <td>790868.93750</td>\n",
       "    </tr>\n",
       "    <tr>\n",
       "      <th>11</th>\n",
       "      <td>June</td>\n",
       "      <td>2017</td>\n",
       "      <td>560143.75000</td>\n",
       "    </tr>\n",
       "    <tr>\n",
       "      <th>12</th>\n",
       "      <td>June</td>\n",
       "      <td>2018</td>\n",
       "      <td>718886.62500</td>\n",
       "    </tr>\n",
       "    <tr>\n",
       "      <th>13</th>\n",
       "      <td>March</td>\n",
       "      <td>2017</td>\n",
       "      <td>615576.43750</td>\n",
       "    </tr>\n",
       "    <tr>\n",
       "      <th>14</th>\n",
       "      <td>March</td>\n",
       "      <td>2018</td>\n",
       "      <td>704673.68750</td>\n",
       "    </tr>\n",
       "    <tr>\n",
       "      <th>15</th>\n",
       "      <td>May</td>\n",
       "      <td>2017</td>\n",
       "      <td>546741.68750</td>\n",
       "    </tr>\n",
       "    <tr>\n",
       "      <th>16</th>\n",
       "      <td>May</td>\n",
       "      <td>2018</td>\n",
       "      <td>567719.62500</td>\n",
       "    </tr>\n",
       "    <tr>\n",
       "      <th>17</th>\n",
       "      <td>November</td>\n",
       "      <td>2017</td>\n",
       "      <td>601187.43750</td>\n",
       "    </tr>\n",
       "    <tr>\n",
       "      <th>18</th>\n",
       "      <td>October</td>\n",
       "      <td>2017</td>\n",
       "      <td>608989.18750</td>\n",
       "    </tr>\n",
       "    <tr>\n",
       "      <th>19</th>\n",
       "      <td>October</td>\n",
       "      <td>2018</td>\n",
       "      <td>800649.62500</td>\n",
       "    </tr>\n",
       "    <tr>\n",
       "      <th>20</th>\n",
       "      <td>September</td>\n",
       "      <td>2017</td>\n",
       "      <td>459469.12500</td>\n",
       "    </tr>\n",
       "    <tr>\n",
       "      <th>21</th>\n",
       "      <td>September</td>\n",
       "      <td>2018</td>\n",
       "      <td>523731.18750</td>\n",
       "    </tr>\n",
       "  </tbody>\n",
       "</table>\n",
       "</div>"
      ],
      "text/plain": [
       "       mnthly yearly  claim_amount\n",
       "0       April   2017  747975.75000\n",
       "1       April   2018  544538.25000\n",
       "2      August   2017  431616.46875\n",
       "3      August   2018  479680.71875\n",
       "4    December   2017  694252.75000\n",
       "5    February   2017  631456.43750\n",
       "6    February   2018  533085.93750\n",
       "7     January   2017  608016.18750\n",
       "8     January   2018  719154.43750\n",
       "10       July   2018  588447.12500\n",
       "9        July   2017  790868.93750\n",
       "11       June   2017  560143.75000\n",
       "12       June   2018  718886.62500\n",
       "13      March   2017  615576.43750\n",
       "14      March   2018  704673.68750\n",
       "15        May   2017  546741.68750\n",
       "16        May   2018  567719.62500\n",
       "17   November   2017  601187.43750\n",
       "18    October   2017  608989.18750\n",
       "19    October   2018  800649.62500\n",
       "20  September   2017  459469.12500\n",
       "21  September   2018  523731.18750"
      ]
     },
     "execution_count": 172,
     "metadata": {},
     "output_type": "execute_result"
    }
   ],
   "source": [
    "mc=df.groupby([\"mnthly\",\"yearly\"])[[\"claim_amount\"]].sum().reset_index()\n",
    "mc\n",
    "mc.sort_values(\"mnthly\")"
   ]
  },
  {
   "cell_type": "markdown",
   "metadata": {},
   "source": [
    "15. What is the average claim amount for gender and age categories and\n",
    "suitably represent the above using a facetted bar chart, one facet that\n",
    "represents fraudulent claims and the other for non-fraudulent claims.\n"
   ]
  },
  {
   "cell_type": "code",
   "execution_count": 174,
   "metadata": {},
   "outputs": [
    {
     "data": {
      "text/html": [
       "<div>\n",
       "<style scoped>\n",
       "    .dataframe tbody tr th:only-of-type {\n",
       "        vertical-align: middle;\n",
       "    }\n",
       "\n",
       "    .dataframe tbody tr th {\n",
       "        vertical-align: top;\n",
       "    }\n",
       "\n",
       "    .dataframe thead th {\n",
       "        text-align: right;\n",
       "    }\n",
       "</style>\n",
       "<table border=\"1\" class=\"dataframe\">\n",
       "  <thead>\n",
       "    <tr style=\"text-align: right;\">\n",
       "      <th></th>\n",
       "      <th>fraudulent</th>\n",
       "      <th>gender</th>\n",
       "      <th>Age_grp</th>\n",
       "      <th>claim_amount</th>\n",
       "    </tr>\n",
       "  </thead>\n",
       "  <tbody>\n",
       "    <tr>\n",
       "      <th>0</th>\n",
       "      <td>No</td>\n",
       "      <td>Female</td>\n",
       "      <td>Adult</td>\n",
       "      <td>3.403034e+06</td>\n",
       "    </tr>\n",
       "    <tr>\n",
       "      <th>1</th>\n",
       "      <td>No</td>\n",
       "      <td>Female</td>\n",
       "      <td>Children</td>\n",
       "      <td>2.242000e+04</td>\n",
       "    </tr>\n",
       "    <tr>\n",
       "      <th>2</th>\n",
       "      <td>No</td>\n",
       "      <td>Female</td>\n",
       "      <td>Youth</td>\n",
       "      <td>1.559759e+06</td>\n",
       "    </tr>\n",
       "    <tr>\n",
       "      <th>3</th>\n",
       "      <td>No</td>\n",
       "      <td>Male</td>\n",
       "      <td>Adult</td>\n",
       "      <td>3.689114e+06</td>\n",
       "    </tr>\n",
       "    <tr>\n",
       "      <th>4</th>\n",
       "      <td>No</td>\n",
       "      <td>Male</td>\n",
       "      <td>Children</td>\n",
       "      <td>9.046000e+04</td>\n",
       "    </tr>\n",
       "    <tr>\n",
       "      <th>5</th>\n",
       "      <td>No</td>\n",
       "      <td>Male</td>\n",
       "      <td>Youth</td>\n",
       "      <td>1.535926e+06</td>\n",
       "    </tr>\n",
       "    <tr>\n",
       "      <th>6</th>\n",
       "      <td>Yes</td>\n",
       "      <td>Female</td>\n",
       "      <td>Adult</td>\n",
       "      <td>1.118405e+06</td>\n",
       "    </tr>\n",
       "    <tr>\n",
       "      <th>7</th>\n",
       "      <td>Yes</td>\n",
       "      <td>Female</td>\n",
       "      <td>Youth</td>\n",
       "      <td>2.736934e+05</td>\n",
       "    </tr>\n",
       "    <tr>\n",
       "      <th>8</th>\n",
       "      <td>Yes</td>\n",
       "      <td>Male</td>\n",
       "      <td>Adult</td>\n",
       "      <td>1.377981e+06</td>\n",
       "    </tr>\n",
       "    <tr>\n",
       "      <th>9</th>\n",
       "      <td>Yes</td>\n",
       "      <td>Male</td>\n",
       "      <td>Children</td>\n",
       "      <td>3.240700e+04</td>\n",
       "    </tr>\n",
       "    <tr>\n",
       "      <th>10</th>\n",
       "      <td>Yes</td>\n",
       "      <td>Male</td>\n",
       "      <td>Youth</td>\n",
       "      <td>3.736617e+05</td>\n",
       "    </tr>\n",
       "  </tbody>\n",
       "</table>\n",
       "</div>"
      ],
      "text/plain": [
       "   fraudulent  gender   Age_grp  claim_amount\n",
       "0          No  Female     Adult  3.403034e+06\n",
       "1          No  Female  Children  2.242000e+04\n",
       "2          No  Female     Youth  1.559759e+06\n",
       "3          No    Male     Adult  3.689114e+06\n",
       "4          No    Male  Children  9.046000e+04\n",
       "5          No    Male     Youth  1.535926e+06\n",
       "6         Yes  Female     Adult  1.118405e+06\n",
       "7         Yes  Female     Youth  2.736934e+05\n",
       "8         Yes    Male     Adult  1.377981e+06\n",
       "9         Yes    Male  Children  3.240700e+04\n",
       "10        Yes    Male     Youth  3.736617e+05"
      ]
     },
     "execution_count": 174,
     "metadata": {},
     "output_type": "execute_result"
    }
   ],
   "source": [
    "fn=df.groupby([\"fraudulent\",\"gender\",\"Age_grp\"])[[\"claim_amount\"]].sum().reset_index()\n",
    "fn"
   ]
  },
  {
   "cell_type": "code",
   "execution_count": 179,
   "metadata": {},
   "outputs": [
    {
     "data": {
      "image/png": "[encoded data removed]",
      "text/plain": [
       "<Figure size 432x432 with 4 Axes>"
      ]
     },
     "metadata": {
      "needs_background": "light"
     },
     "output_type": "display_data"
    }
   ],
   "source": [
    "g=sns.FacetGrid(fn,col=\"fraudulent\",row=\"gender\",col_order=[\"No\",\"Yes\"],row_order=[\"Female\",\"Male\"])\n",
    "g.map(sns.barplot,\"Age_grp\",\"claim_amount\")\n",
    "plt.subplots_adjust(hspace=0.4, wspace=0.4)"
   ]
  },
  {
   "cell_type": "markdown",
   "metadata": {},
   "source": [
    "16. Is there any similarity in the amount claimed by males and females?"
   ]
  },
  {
   "cell_type": "code",
   "execution_count": 181,
   "metadata": {},
   "outputs": [],
   "source": [
    "m=df[df[\"gender\"]==\"Male\"]\n",
    "f=df[df[\"gender\"]==\"Female\"]"
   ]
  },
  {
   "cell_type": "code",
   "execution_count": 182,
   "metadata": {},
   "outputs": [
    {
     "data": {
      "text/plain": [
       "(0.962509235557727, 0.3360101161075433)"
      ]
     },
     "execution_count": 182,
     "metadata": {},
     "output_type": "execute_result"
    }
   ],
   "source": [
    "from scipy.stats import ttest_ind\n",
    "t,p=ttest_ind(m.claim_amount,f.claim_amount)\n",
    "t,p"
   ]
  },
  {
   "cell_type": "markdown",
   "metadata": {},
   "source": [
    "17. Is there any relationship between age category and segment?"
   ]
  },
  {
   "cell_type": "code",
   "execution_count": 183,
   "metadata": {
    "scrolled": true
   },
   "outputs": [
    {
     "data": {
      "text/html": [
       "<div>\n",
       "<style scoped>\n",
       "    .dataframe tbody tr th:only-of-type {\n",
       "        vertical-align: middle;\n",
       "    }\n",
       "\n",
       "    .dataframe tbody tr th {\n",
       "        vertical-align: top;\n",
       "    }\n",
       "\n",
       "    .dataframe thead th {\n",
       "        text-align: right;\n",
       "    }\n",
       "</style>\n",
       "<table border=\"1\" class=\"dataframe\">\n",
       "  <thead>\n",
       "    <tr style=\"text-align: right;\">\n",
       "      <th>Age_grp</th>\n",
       "      <th>Adult</th>\n",
       "      <th>Children</th>\n",
       "      <th>Youth</th>\n",
       "      <th>All</th>\n",
       "    </tr>\n",
       "    <tr>\n",
       "      <th>Segment</th>\n",
       "      <th></th>\n",
       "      <th></th>\n",
       "      <th></th>\n",
       "      <th></th>\n",
       "    </tr>\n",
       "  </thead>\n",
       "  <tbody>\n",
       "    <tr>\n",
       "      <th>Gold</th>\n",
       "      <td>262</td>\n",
       "      <td>3</td>\n",
       "      <td>106</td>\n",
       "      <td>371</td>\n",
       "    </tr>\n",
       "    <tr>\n",
       "      <th>Platinum</th>\n",
       "      <td>242</td>\n",
       "      <td>4</td>\n",
       "      <td>115</td>\n",
       "      <td>361</td>\n",
       "    </tr>\n",
       "    <tr>\n",
       "      <th>Silver</th>\n",
       "      <td>243</td>\n",
       "      <td>0</td>\n",
       "      <td>103</td>\n",
       "      <td>346</td>\n",
       "    </tr>\n",
       "    <tr>\n",
       "      <th>All</th>\n",
       "      <td>747</td>\n",
       "      <td>7</td>\n",
       "      <td>324</td>\n",
       "      <td>1078</td>\n",
       "    </tr>\n",
       "  </tbody>\n",
       "</table>\n",
       "</div>"
      ],
      "text/plain": [
       "Age_grp   Adult  Children  Youth   All\n",
       "Segment                               \n",
       "Gold        262         3    106   371\n",
       "Platinum    242         4    115   361\n",
       "Silver      243         0    103   346\n",
       "All         747         7    324  1078"
      ]
     },
     "execution_count": 183,
     "metadata": {},
     "output_type": "execute_result"
    }
   ],
   "source": [
    "tab = pd.crosstab(df.Segment, df.Age_grp, margins = True)\n",
    "tab"
   ]
  },
  {
   "cell_type": "code",
   "execution_count": 184,
   "metadata": {},
   "outputs": [
    {
     "data": {
      "text/plain": [
       "(4.635619754223588,\n",
       " 0.8648459595354282,\n",
       " 9,\n",
       " array([[ 257.08441558,    2.40909091,  111.50649351,  371.        ],\n",
       "        [ 250.15491651,    2.34415584,  108.50092764,  361.        ],\n",
       "        [ 239.7606679 ,    2.24675325,  103.99257885,  346.        ],\n",
       "        [ 747.        ,    7.        ,  324.        , 1078.        ]]))"
      ]
     },
     "execution_count": 184,
     "metadata": {},
     "output_type": "execute_result"
    }
   ],
   "source": [
    "from scipy.stats import chi2_contingency\n",
    "x1 = chi2_contingency(tab)\n",
    "x1"
   ]
  },
  {
   "cell_type": "code",
   "execution_count": 185,
   "metadata": {},
   "outputs": [
    {
     "name": "stdout",
     "output_type": "stream",
     "text": [
      "The chi square stat is 4.635619754223588 and the p value is 0.8648459595354282\n"
     ]
    }
   ],
   "source": [
    "print(\"The chi square stat is {} and the p value is {}\".format(x1[0],x1[1]))"
   ]
  },
  {
   "cell_type": "markdown",
   "metadata": {},
   "source": [
    "18. The current year has shown a significant rise in claim amounts as\n",
    "compared to 2016-17 fiscal average which was $10,000."
   ]
  },
  {
   "cell_type": "code",
   "execution_count": 186,
   "metadata": {
    "scrolled": true
   },
   "outputs": [
    {
     "data": {
      "text/plain": [
       "2017    593\n",
       "2018    485\n",
       "Name: yearly, dtype: int64"
      ]
     },
     "execution_count": 186,
     "metadata": {},
     "output_type": "execute_result"
    }
   ],
   "source": [
    "df.yearly.value_counts()"
   ]
  },
  {
   "cell_type": "code",
   "execution_count": 187,
   "metadata": {},
   "outputs": [
    {
     "data": {
      "text/plain": [
       "12743.4345703125"
      ]
     },
     "execution_count": 187,
     "metadata": {},
     "output_type": "execute_result"
    }
   ],
   "source": [
    "q=df.loc[df[\"yearly\"]==\"2018\"]\n",
    "q.claim_amount.mean()"
   ]
  },
  {
   "cell_type": "code",
   "execution_count": 188,
   "metadata": {},
   "outputs": [
    {
     "data": {
      "text/plain": [
       "(4.477346657115039, 9.435712980259601e-06)"
      ]
     },
     "execution_count": 188,
     "metadata": {},
     "output_type": "execute_result"
    }
   ],
   "source": [
    "from scipy.stats import ttest_1samp\n",
    "t,p=ttest_1samp(q.claim_amount,10000)\n",
    "t,p"
   ]
  },
  {
   "cell_type": "code",
   "execution_count": 189,
   "metadata": {},
   "outputs": [
    {
     "name": "stdout",
     "output_type": "stream",
     "text": [
      "t-score =4.48, p-value =0.000\n",
      "Reject H0\n"
     ]
    }
   ],
   "source": [
    "print('t-score =%.2f, p-value =%.3f' % (t, p))\n",
    "if p > 0.05:\n",
    "    print('Accepting H0')\n",
    "else:\n",
    "    print('Reject H0')"
   ]
  },
  {
   "cell_type": "markdown",
   "metadata": {},
   "source": [
    "19. Is there any difference between age groups and insurance claims?"
   ]
  },
  {
   "cell_type": "code",
   "execution_count": 190,
   "metadata": {
    "scrolled": true
   },
   "outputs": [
    {
     "data": {
      "text/html": [
       "<div>\n",
       "<style scoped>\n",
       "    .dataframe tbody tr th:only-of-type {\n",
       "        vertical-align: middle;\n",
       "    }\n",
       "\n",
       "    .dataframe tbody tr th {\n",
       "        vertical-align: top;\n",
       "    }\n",
       "\n",
       "    .dataframe thead th {\n",
       "        text-align: right;\n",
       "    }\n",
       "</style>\n",
       "<table border=\"1\" class=\"dataframe\">\n",
       "  <thead>\n",
       "    <tr style=\"text-align: right;\">\n",
       "      <th>Age_grp</th>\n",
       "      <th>Adult</th>\n",
       "      <th>Children</th>\n",
       "      <th>Youth</th>\n",
       "      <th>All</th>\n",
       "    </tr>\n",
       "    <tr>\n",
       "      <th>claim_type</th>\n",
       "      <th></th>\n",
       "      <th></th>\n",
       "      <th></th>\n",
       "      <th></th>\n",
       "    </tr>\n",
       "  </thead>\n",
       "  <tbody>\n",
       "    <tr>\n",
       "      <th>Injury only</th>\n",
       "      <td>127</td>\n",
       "      <td>2</td>\n",
       "      <td>65</td>\n",
       "      <td>194</td>\n",
       "    </tr>\n",
       "    <tr>\n",
       "      <th>Material and injury</th>\n",
       "      <td>182</td>\n",
       "      <td>3</td>\n",
       "      <td>52</td>\n",
       "      <td>237</td>\n",
       "    </tr>\n",
       "    <tr>\n",
       "      <th>Material only</th>\n",
       "      <td>438</td>\n",
       "      <td>2</td>\n",
       "      <td>207</td>\n",
       "      <td>647</td>\n",
       "    </tr>\n",
       "    <tr>\n",
       "      <th>All</th>\n",
       "      <td>747</td>\n",
       "      <td>7</td>\n",
       "      <td>324</td>\n",
       "      <td>1078</td>\n",
       "    </tr>\n",
       "  </tbody>\n",
       "</table>\n",
       "</div>"
      ],
      "text/plain": [
       "Age_grp              Adult  Children  Youth   All\n",
       "claim_type                                       \n",
       "Injury only            127         2     65   194\n",
       "Material and injury    182         3     52   237\n",
       "Material only          438         2    207   647\n",
       "All                    747         7    324  1078"
      ]
     },
     "execution_count": 190,
     "metadata": {},
     "output_type": "execute_result"
    }
   ],
   "source": [
    "tab1 = pd.crosstab(df.claim_type, df.Age_grp, margins = True)\n",
    "tab1"
   ]
  },
  {
   "cell_type": "code",
   "execution_count": 191,
   "metadata": {
    "scrolled": true
   },
   "outputs": [
    {
     "data": {
      "text/plain": [
       "(12.316816270636131,\n",
       " 0.19603221136600343,\n",
       " 9,\n",
       " array([[ 134.432282  ,    1.25974026,   58.30797774,  194.        ],\n",
       "        [ 164.22912801,    1.53896104,   71.23191095,  237.        ],\n",
       "        [ 448.33858998,    4.2012987 ,  194.46011132,  647.        ],\n",
       "        [ 747.        ,    7.        ,  324.        , 1078.        ]]))"
      ]
     },
     "execution_count": 191,
     "metadata": {},
     "output_type": "execute_result"
    }
   ],
   "source": [
    "from scipy.stats import chi2_contingency\n",
    "x2 = chi2_contingency(tab1)\n",
    "x2"
   ]
  },
  {
   "cell_type": "code",
   "execution_count": 192,
   "metadata": {},
   "outputs": [
    {
     "name": "stdout",
     "output_type": "stream",
     "text": [
      "The chi square stat is 12.316816270636131 and the p value is 0.19603221136600343\n"
     ]
    }
   ],
   "source": [
    "print(\"The chi square stat is {} and the p value is {}\".format(x2[0],x2[1]))"
   ]
  },
  {
   "cell_type": "markdown",
   "metadata": {},
   "source": [
    "20. Is there any relationship between total number of policy claims and the\n",
    "claimed amount?"
   ]
  },
  {
   "cell_type": "code",
   "execution_count": 193,
   "metadata": {},
   "outputs": [
    {
     "name": "stdout",
     "output_type": "stream",
     "text": [
      "[[ 1.         -0.02190949]\n",
      " [-0.02190949  1.        ]]\n"
     ]
    }
   ],
   "source": [
    "print(np.corrcoef(df.total_policy_claims, df.claim_amount))"
   ]
  },
  {
   "cell_type": "code",
   "execution_count": 195,
   "metadata": {},
   "outputs": [
    {
     "name": "stdout",
     "output_type": "stream",
     "text": [
      "(-0.021909488060697424, 0.472384985815484)\n"
     ]
    }
   ],
   "source": [
    "from scipy.stats import kurtosis, skew, stats\n",
    "print(stats.pearsonr(df.total_policy_claims, df.claim_amount))"
   ]
  },
  {
   "cell_type": "code",
   "execution_count": null,
   "metadata": {},
   "outputs": [],
   "source": []
  }
 ],
 "metadata": {
  "kernelspec": {
   "display_name": "Python 3",
   "language": "python",
   "name": "python3"
  },
  "language_info": {
   "codemirror_mode": {
    "name": "ipython",
    "version": 3
   },
   "file_extension": ".py",
   "mimetype": "text/x-python",
   "name": "python",
   "nbconvert_exporter": "python",
   "pygments_lexer": "ipython3",
   "version": "3.8.3"
  }
 },
 "nbformat": 4,
 "nbformat_minor": 4
}
